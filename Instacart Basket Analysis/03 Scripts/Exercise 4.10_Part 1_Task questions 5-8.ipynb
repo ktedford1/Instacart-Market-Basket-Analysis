{
 "cells": [
  {
   "cell_type": "markdown",
   "id": "012addd4",
   "metadata": {
    "toc": true
   },
   "source": [
    "<h1>Table of Contents<span class=\"tocSkip\"></span></h1>\n",
    "<div class=\"toc\"><ul class=\"toc-item\"><li><span><a href=\"#Import-Libraries\" data-toc-modified-id=\"Import-Libraries-1\">Import Libraries</a></span></li><li><span><a href=\"#Task-Questions-5---8\" data-toc-modified-id=\"Task-Questions-5---8-2\">Task Questions 5 - 8</a></span></li><li><span><a href=\"#Q5:-Create-a-profiling-variable-based-on-age,-income,-certain-goods-in-the-“department_id”-column,-and-number-of-dependents.\" data-toc-modified-id=\"Q5:-Create-a-profiling-variable-based-on-age,-income,-certain-goods-in-the-“department_id”-column,-and-number-of-dependents.-3\">Q5: Create a profiling variable based on age, income, certain goods in the “department_id” column, and number of dependents.</a></span><ul class=\"toc-item\"><li><span><a href=\"#Import-Data:-use-the-active_customers-df-from-part-1-of-this-task.\" data-toc-modified-id=\"Import-Data:-use-the-active_customers-df-from-part-1-of-this-task.-3.1\">Import Data: use the active_customers df from part 1 of this task.</a></span></li><li><span><a href=\"#Define-department-categories:-add-the-department-labels-to-the-icac-df-by-merge\" data-toc-modified-id=\"Define-department-categories:-add-the-department-labels-to-the-icac-df-by-merge-3.2\">Define department categories: add the department labels to the icac df by merge</a></span></li><li><span><a href=\"#Make-a-df-containing-unique-customer_ids\" data-toc-modified-id=\"Make-a-df-containing-unique-customer_ids-3.3\">Make a df containing unique customer_ids</a></span></li><li><span><a href=\"#Define-categories-for-income,-age,-number_of_dependents\" data-toc-modified-id=\"Define-categories-for-income,-age,-number_of_dependents-3.4\">Define categories for income, age, number_of_dependents</a></span><ul class=\"toc-item\"><li><span><a href=\"#Define-income-categories:\" data-toc-modified-id=\"Define-income-categories:-3.4.1\">Define income categories:</a></span></li><li><span><a href=\"#Define-age-categories:\" data-toc-modified-id=\"Define-age-categories:-3.4.2\">Define age categories:</a></span></li><li><span><a href=\"#Define-'number-of-dependants'-categories:\" data-toc-modified-id=\"Define-'number-of-dependants'-categories:-3.4.3\">Define 'number of dependants' categories:</a></span></li><li><span><a href=\"#Define-family_status-categories:-check-the-fam_status-column\" data-toc-modified-id=\"Define-family_status-categories:-check-the-fam_status-column-3.4.4\">Define family_status categories: check the fam_status column</a></span></li></ul></li><li><span><a href=\"#Export-these-dataframes\" data-toc-modified-id=\"Export-these-dataframes-3.5\">Export these dataframes</a></span></li><li><span><a href=\"#Create-profiles-(based-on-income,-age,-dependants,-certain-departments):\" data-toc-modified-id=\"Create-profiles-(based-on-income,-age,-dependants,-certain-departments):-3.6\">Create profiles (based on income, age, dependants, certain departments):</a></span></li></ul></li><li><span><a href=\"#Q6:-Create-an-appropriate-visualization-to-show-the-distribution-of-profiles.\" data-toc-modified-id=\"Q6:-Create-an-appropriate-visualization-to-show-the-distribution-of-profiles.-4\">Q6: Create an appropriate visualization to show the distribution of profiles.</a></span></li><li><span><a href=\"#Q7:-Aggregate-the-max,-mean,-and-min-variables-on-a-customer-profile-level-for-usage-frequency-and-expenditure.\" data-toc-modified-id=\"Q7:-Aggregate-the-max,-mean,-and-min-variables-on-a-customer-profile-level-for-usage-frequency-and-expenditure.-5\">Q7: Aggregate the max, mean, and min variables on a customer-profile level for usage frequency and expenditure.</a></span></li><li><span><a href=\"#Q8:-Compare-your-customer-profiles-with-regions-and-departments.-Can-you-identify-a-link-between-them?\" data-toc-modified-id=\"Q8:-Compare-your-customer-profiles-with-regions-and-departments.-Can-you-identify-a-link-between-them?-6\">Q8: Compare your customer profiles with regions and departments. Can you identify a link between them?</a></span><ul class=\"toc-item\"><li><ul class=\"toc-item\"><li><ul class=\"toc-item\"><li><span><a href=\"#REGIONS-(using-&quot;unique_customers&quot;-df):\" data-toc-modified-id=\"REGIONS-(using-&quot;unique_customers&quot;-df):-6.0.0.1\">REGIONS (using \"unique_customers\" df):</a></span></li><li><span><a href=\"#DEPARTMENTS-(using-&quot;unique_customers&quot;-df):\" data-toc-modified-id=\"DEPARTMENTS-(using-&quot;unique_customers&quot;-df):-6.0.0.2\">DEPARTMENTS (using \"unique_customers\" df):</a></span></li></ul></li></ul></li><li><span><a href=\"#Add-the-customer-profiles-to-the-active-customers-df:\" data-toc-modified-id=\"Add-the-customer-profiles-to-the-active-customers-df:-6.1\">Add the customer profiles to the active customers df:</a></span></li><li><span><a href=\"#Analyse-the-product-preferences-per-region-for-select-customer-profiles\" data-toc-modified-id=\"Analyse-the-product-preferences-per-region-for-select-customer-profiles-6.2\">Analyse the product preferences per region for select customer profiles</a></span><ul class=\"toc-item\"><li><ul class=\"toc-item\"><li><span><a href=\"#Make-a-plot-of-department-preferences-for-all-customers\" data-toc-modified-id=\"Make-a-plot-of-department-preferences-for-all-customers-6.2.0.1\">Make a plot of department preferences for all customers</a></span></li></ul></li></ul></li></ul></li></ul></div>"
   ]
  },
  {
   "cell_type": "markdown",
   "id": "78658715",
   "metadata": {},
   "source": [
    "## Import Libraries"
   ]
  },
  {
   "cell_type": "code",
   "execution_count": 1,
   "id": "34b8f482",
   "metadata": {},
   "outputs": [],
   "source": [
    "import pandas as pd\n",
    "import numpy as np\n",
    "import os\n",
    "import matplotlib.pyplot as plt\n",
    "import seaborn as sn\n",
    "import scipy"
   ]
  },
  {
   "cell_type": "markdown",
   "id": "c01ba6d6",
   "metadata": {},
   "source": [
    "## Task Questions 5 - 8"
   ]
  },
  {
   "cell_type": "code",
   "execution_count": null,
   "id": "b28f8f85",
   "metadata": {},
   "outputs": [],
   "source": []
  },
  {
   "cell_type": "markdown",
   "id": "ac1e2087",
   "metadata": {},
   "source": [
    "## Q5: Create a profiling variable based on age, income, certain goods in the “department_id” column, and number of dependents."
   ]
  },
  {
   "cell_type": "markdown",
   "id": "c091e2ed",
   "metadata": {},
   "source": [
    "### Import Data: use the active_customers df from part 1 of this task."
   ]
  },
  {
   "cell_type": "code",
   "execution_count": 2,
   "id": "221bc3d6",
   "metadata": {},
   "outputs": [],
   "source": [
    "# make a path\n",
    "path = r'/Users/profkdfischer/Instacart Basket Analysis'"
   ]
  },
  {
   "cell_type": "code",
   "execution_count": 3,
   "id": "605a82af",
   "metadata": {},
   "outputs": [],
   "source": [
    "# import the active_customers df - use a shorter name: icac (for InstaCart Active Customers)\n",
    "icac = pd.read_pickle(os.path.join(path, '02 Data', 'Prepared Data', 'active_customers.pkl'))"
   ]
  },
  {
   "cell_type": "code",
   "execution_count": null,
   "id": "7909cd84",
   "metadata": {},
   "outputs": [],
   "source": [
    "# display all the columns in the .head() function\n",
    "pd.set_option('display.max_columns', None)"
   ]
  },
  {
   "cell_type": "code",
   "execution_count": null,
   "id": "bbda6dae",
   "metadata": {},
   "outputs": [],
   "source": [
    "# check the head\n",
    "icac.head()"
   ]
  },
  {
   "cell_type": "code",
   "execution_count": null,
   "id": "a95707df",
   "metadata": {},
   "outputs": [],
   "source": [
    "# the exclusion_flag column is unnecessary (df was based on it so all rows have it)\n",
    "icac.drop('exclusion_flag', axis=1, inplace=True)"
   ]
  },
  {
   "cell_type": "code",
   "execution_count": null,
   "id": "6d158c33",
   "metadata": {},
   "outputs": [],
   "source": [
    "# check the columns\n",
    "icac.columns"
   ]
  },
  {
   "cell_type": "code",
   "execution_count": null,
   "id": "444f43f2",
   "metadata": {},
   "outputs": [],
   "source": [
    "# check the shape\n",
    "icac.shape"
   ]
  },
  {
   "cell_type": "markdown",
   "id": "63b24c6b",
   "metadata": {},
   "source": [
    "***"
   ]
  },
  {
   "cell_type": "markdown",
   "id": "a53ff97b",
   "metadata": {},
   "source": [
    "### Define department categories: add the department labels to the icac df by merge"
   ]
  },
  {
   "cell_type": "code",
   "execution_count": null,
   "id": "5900f5f4",
   "metadata": {},
   "outputs": [],
   "source": [
    "# get the data_dict with department names from Exercise 4.4\n",
    "data_dict = {'1': {'department': 'frozen'},\n",
    " '2': {'department': 'other'},\n",
    " '3': {'department': 'bakery'},\n",
    " '4': {'department': 'produce'},\n",
    " '5': {'department': 'alcohol'},\n",
    " '6': {'department': 'international'},\n",
    " '7': {'department': 'beverages'},\n",
    " '8': {'department': 'pets'},\n",
    " '9': {'department': 'dry goods pasta'},\n",
    " '10': {'department': 'bulk'},\n",
    " '11': {'department': 'personal care'},\n",
    " '12': {'department': 'meat seafood'},\n",
    " '13': {'department': 'pantry'},\n",
    " '14': {'department': 'breakfast'},\n",
    " '15': {'department': 'canned goods'},\n",
    " '16': {'department': 'dairy eggs'},\n",
    " '17': {'department': 'household'},\n",
    " '18': {'department': 'babies'},\n",
    " '19': {'department': 'snacks'},\n",
    " '20': {'department': 'deli'},\n",
    " '21': {'department': 'missing'}}"
   ]
  },
  {
   "cell_type": "code",
   "execution_count": null,
   "id": "15a93588",
   "metadata": {},
   "outputs": [],
   "source": [
    "# convert the data_dict to a df\n",
    "departments_df = pd.DataFrame.from_dict(data_dict, orient='index').reset_index()"
   ]
  },
  {
   "cell_type": "code",
   "execution_count": null,
   "id": "a0bf24f5",
   "metadata": {},
   "outputs": [],
   "source": [
    "# check the datatype of the department_id in the icac df\n",
    "icac['department_id'].dtype"
   ]
  },
  {
   "cell_type": "code",
   "execution_count": null,
   "id": "d44af5a7",
   "metadata": {},
   "outputs": [],
   "source": [
    "# change the column name of department_id to match that of icac df\n",
    "departments_df.columns = ['department_id', 'department']"
   ]
  },
  {
   "cell_type": "code",
   "execution_count": null,
   "id": "b355175f",
   "metadata": {},
   "outputs": [],
   "source": [
    "# check the head\n",
    "departments_df.head(25)"
   ]
  },
  {
   "cell_type": "code",
   "execution_count": null,
   "id": "37c2e945",
   "metadata": {},
   "outputs": [],
   "source": [
    "# merge the department names into the icac df\n",
    "icac = icac.merge(departments_df, on='department_id', how='left')"
   ]
  },
  {
   "cell_type": "code",
   "execution_count": null,
   "id": "ffbc3bbc",
   "metadata": {},
   "outputs": [],
   "source": [
    "# check the merge\n",
    "icac.shape"
   ]
  },
  {
   "cell_type": "code",
   "execution_count": null,
   "id": "9393b7cf",
   "metadata": {},
   "outputs": [],
   "source": [
    "# check the head\n",
    "icac.head()"
   ]
  },
  {
   "cell_type": "markdown",
   "id": "379bf9a7",
   "metadata": {},
   "source": [
    "***"
   ]
  },
  {
   "cell_type": "markdown",
   "id": "5c62515b",
   "metadata": {},
   "source": [
    "### Make a df containing unique customer_ids"
   ]
  },
  {
   "cell_type": "code",
   "execution_count": 6,
   "id": "06949d34",
   "metadata": {},
   "outputs": [],
   "source": [
    "# how many customers per region? use unique 'user_id' to avoid duplicates\n",
    "customers_per_region = icac.groupby('Region')['user_id'].nunique()"
   ]
  },
  {
   "cell_type": "code",
   "execution_count": 8,
   "id": "72581b98",
   "metadata": {},
   "outputs": [
    {
     "data": {
      "image/png": "[encoded data removed]",
      "text/plain": [
       "<Figure size 400x300 with 1 Axes>"
      ]
     },
     "metadata": {},
     "output_type": "display_data"
    }
   ],
   "source": [
    "# make a bar chart of the \"customers_per_region\" df\n",
    "bar1 = customers_per_region.plot.bar(figsize=(4, 3))\n",
    "plt.title('Total Number of Customers Per Region')\n",
    "plt.ylabel('Number of Customers')\n",
    "plt.xticks(rotation=45)\n",
    "plt.tight_layout()\n",
    "plt.show()"
   ]
  },
  {
   "cell_type": "code",
   "execution_count": 9,
   "id": "ab67d513",
   "metadata": {},
   "outputs": [],
   "source": [
    "# export figure:\n",
    "bar1.figure.savefig(os.path.join(path, '04 Analysis', 'Visualizations', 'Ex. 4.10', 'Ex. 4.10_bar1.png'))"
   ]
  },
  {
   "cell_type": "code",
   "execution_count": 4,
   "id": "1f9cf4be",
   "metadata": {},
   "outputs": [],
   "source": [
    "# make a subset of unique customers\n",
    "unique_customers = icac.drop_duplicates(subset='user_id').copy()"
   ]
  },
  {
   "cell_type": "code",
   "execution_count": 5,
   "id": "876a5205",
   "metadata": {},
   "outputs": [
    {
     "data": {
      "text/plain": [
       "(162631, 32)"
      ]
     },
     "execution_count": 5,
     "metadata": {},
     "output_type": "execute_result"
    }
   ],
   "source": [
    "# check the shape\n",
    "unique_customers.shape"
   ]
  },
  {
   "cell_type": "markdown",
   "id": "d8a84248",
   "metadata": {},
   "source": [
    "***"
   ]
  },
  {
   "cell_type": "markdown",
   "id": "c53a6d31",
   "metadata": {},
   "source": [
    "### Define categories for income, age, number_of_dependents"
   ]
  },
  {
   "cell_type": "markdown",
   "id": "acf75c3d",
   "metadata": {},
   "source": [
    "#### Define income categories:"
   ]
  },
  {
   "cell_type": "code",
   "execution_count": 10,
   "id": "ea664c8b",
   "metadata": {},
   "outputs": [
    {
     "data": {
      "text/plain": [
       "count    162631.000000\n",
       "mean      95686.508821\n",
       "std       42743.386453\n",
       "min       25903.000000\n",
       "25%       61717.500000\n",
       "50%       94292.000000\n",
       "75%      125165.000000\n",
       "max      593901.000000\n",
       "Name: income, dtype: float64"
      ]
     },
     "execution_count": 10,
     "metadata": {},
     "output_type": "execute_result"
    }
   ],
   "source": [
    "# check the spread of income\n",
    "unique_customers['income'].describe()"
   ]
  },
  {
   "cell_type": "code",
   "execution_count": 11,
   "id": "4fb0eb0b",
   "metadata": {},
   "outputs": [
    {
     "data": {
      "image/png": "[encoded data removed]",
      "text/plain": [
       "<Figure size 600x400 with 1 Axes>"
      ]
     },
     "metadata": {},
     "output_type": "display_data"
    }
   ],
   "source": [
    "# check the distribution of income\n",
    "hist1 = plt.figure(figsize=(6, 4))\n",
    "unique_customers['income'].hist(bins=100, alpha=0.5, label='Income')\n",
    "plt.legend()\n",
    "plt.show()"
   ]
  },
  {
   "cell_type": "code",
   "execution_count": 12,
   "id": "96150c96",
   "metadata": {},
   "outputs": [],
   "source": [
    "# export figure:\n",
    "hist1.figure.savefig(os.path.join(path, '04 Analysis', 'Visualizations', 'Ex. 4.10_hist1.png'))"
   ]
  },
  {
   "cell_type": "markdown",
   "id": "deb9d75f",
   "metadata": {},
   "source": [
    "Comment: income is roughly centered on 100K, so make 2 categories, \"lower income\" for under 100K and \"higher income\" for over 100K."
   ]
  },
  {
   "cell_type": "code",
   "execution_count": 13,
   "id": "f8c6ecd8",
   "metadata": {},
   "outputs": [
    {
     "name": "stderr",
     "output_type": "stream",
     "text": [
      "/var/folders/s0/b631rndx6sv1py5f9s6wc7y00000gn/T/ipykernel_16783/2421152803.py:2: FutureWarning: Setting an item of incompatible dtype is deprecated and will raise in a future error of pandas. Value 'affluent' has dtype incompatible with float64, please explicitly cast to a compatible dtype first.\n",
      "  unique_customers.loc[(unique_customers['income'] >= 100000), 'profile_income'] = 'affluent'\n"
     ]
    }
   ],
   "source": [
    "# flag the unique active customers by income (over 100K)\n",
    "unique_customers.loc[(unique_customers['income'] >= 100000), 'profile_income'] = 'affluent'"
   ]
  },
  {
   "cell_type": "code",
   "execution_count": 14,
   "id": "ee0a41a1",
   "metadata": {},
   "outputs": [],
   "source": [
    "# flag the unique active customers by income (under 100K)\n",
    "unique_customers.loc[(unique_customers['income'] < 100000), 'profile_income'] = 'economical'"
   ]
  },
  {
   "cell_type": "code",
   "execution_count": 15,
   "id": "d3086e53",
   "metadata": {},
   "outputs": [
    {
     "data": {
      "text/plain": [
       "profile_income\n",
       "economical    92550\n",
       "affluent      70081\n",
       "Name: count, dtype: int64"
      ]
     },
     "execution_count": 15,
     "metadata": {},
     "output_type": "execute_result"
    }
   ],
   "source": [
    "# check the counts\n",
    "unique_customers['profile_income'].value_counts(dropna = False)"
   ]
  },
  {
   "cell_type": "markdown",
   "id": "50a7f9a5",
   "metadata": {},
   "source": [
    "#### Define age categories:"
   ]
  },
  {
   "cell_type": "code",
   "execution_count": 16,
   "id": "e955dec5",
   "metadata": {},
   "outputs": [
    {
     "data": {
      "text/plain": [
       "count    162631.000000\n",
       "mean         49.531375\n",
       "std          18.475491\n",
       "min          18.000000\n",
       "25%          34.000000\n",
       "50%          49.000000\n",
       "75%          66.000000\n",
       "max          81.000000\n",
       "Name: Age, dtype: float64"
      ]
     },
     "execution_count": 16,
     "metadata": {},
     "output_type": "execute_result"
    }
   ],
   "source": [
    "# check the spread of age\n",
    "unique_customers['Age'].describe()"
   ]
  },
  {
   "cell_type": "code",
   "execution_count": 17,
   "id": "6c306ea3",
   "metadata": {},
   "outputs": [
    {
     "data": {
      "image/png": "[encoded data removed]",
      "text/plain": [
       "<Figure size 600x400 with 1 Axes>"
      ]
     },
     "metadata": {},
     "output_type": "display_data"
    }
   ],
   "source": [
    "# check the distribution of age\n",
    "hist2 = plt.figure(figsize = (6, 4))\n",
    "unique_customers['Age'].hist(bins=100, alpha=0.5, label='Age')\n",
    "plt.legend()\n",
    "plt.show()"
   ]
  },
  {
   "cell_type": "code",
   "execution_count": 18,
   "id": "74d9999e",
   "metadata": {},
   "outputs": [],
   "source": [
    "# export figure:\n",
    "hist2.figure.savefig(os.path.join(path, '04 Analysis', 'Visualizations', 'Ex. 4.10_hist2.png'))"
   ]
  },
  {
   "cell_type": "markdown",
   "id": "c0fc500b",
   "metadata": {},
   "source": [
    "Comment: Customer ages range from 18 to 81, roughly centered on 50, so make 2 groups of under 50 and over 50."
   ]
  },
  {
   "cell_type": "code",
   "execution_count": 19,
   "id": "50142acd",
   "metadata": {},
   "outputs": [
    {
     "name": "stderr",
     "output_type": "stream",
     "text": [
      "/var/folders/s0/b631rndx6sv1py5f9s6wc7y00000gn/T/ipykernel_16783/3488793452.py:2: FutureWarning: Setting an item of incompatible dtype is deprecated and will raise in a future error of pandas. Value 'senior' has dtype incompatible with float64, please explicitly cast to a compatible dtype first.\n",
      "  unique_customers.loc[(unique_customers['Age'] >= 50), 'profile_age'] = 'senior'\n"
     ]
    }
   ],
   "source": [
    "# sort the active customers by age (50 and over)\n",
    "unique_customers.loc[(unique_customers['Age'] >= 50), 'profile_age'] = 'senior'"
   ]
  },
  {
   "cell_type": "code",
   "execution_count": 20,
   "id": "56e148d5",
   "metadata": {},
   "outputs": [],
   "source": [
    "# sort the active customers by age (under 50)\n",
    "unique_customers.loc[(unique_customers['Age'] < 50), 'profile_age'] = 'young'"
   ]
  },
  {
   "cell_type": "code",
   "execution_count": 21,
   "id": "787d5dbe",
   "metadata": {},
   "outputs": [
    {
     "data": {
      "text/plain": [
       "profile_age\n",
       "young     81357\n",
       "senior    81274\n",
       "Name: count, dtype: int64"
      ]
     },
     "execution_count": 21,
     "metadata": {},
     "output_type": "execute_result"
    }
   ],
   "source": [
    "# check the counts\n",
    "unique_customers['profile_age'].value_counts(dropna = False)"
   ]
  },
  {
   "cell_type": "markdown",
   "id": "ce6dffb4",
   "metadata": {},
   "source": [
    "***"
   ]
  },
  {
   "cell_type": "markdown",
   "id": "5ff61047",
   "metadata": {},
   "source": [
    "#### Define 'number of dependants' categories:"
   ]
  },
  {
   "cell_type": "code",
   "execution_count": null,
   "id": "b739eea5",
   "metadata": {},
   "outputs": [],
   "source": [
    "# check the spread of n_dependants\n",
    "unique_customers['n_dependants'].describe()"
   ]
  },
  {
   "cell_type": "markdown",
   "id": "d4dfc890",
   "metadata": {},
   "source": [
    "Comment: The number of dependants ranges from 0 to 3, so just use these as categories."
   ]
  },
  {
   "cell_type": "code",
   "execution_count": null,
   "id": "c8833962",
   "metadata": {},
   "outputs": [],
   "source": [
    "# check the counts\n",
    "unique_customers['n_dependants'].value_counts(dropna = False)"
   ]
  },
  {
   "cell_type": "markdown",
   "id": "dc18cd84",
   "metadata": {},
   "source": [
    "***"
   ]
  },
  {
   "cell_type": "markdown",
   "id": "67220b6d",
   "metadata": {},
   "source": [
    "#### Define family_status categories: check the fam_status column"
   ]
  },
  {
   "cell_type": "code",
   "execution_count": null,
   "id": "cbed64af",
   "metadata": {},
   "outputs": [],
   "source": [
    "# check what labels are available in the 'fam_status' column\n",
    "unique_customers['fam_status'].value_counts(dropna = False)"
   ]
  },
  {
   "cell_type": "code",
   "execution_count": null,
   "id": "6a248bf8",
   "metadata": {},
   "outputs": [],
   "source": [
    "# check distribution of fam_status with a crosstab\n",
    "crosstab = pd.crosstab(unique_customers['fam_status'], unique_customers['profile_income'], dropna = False)\n",
    "crosstab"
   ]
  },
  {
   "cell_type": "code",
   "execution_count": null,
   "id": "e6dd7e08",
   "metadata": {},
   "outputs": [],
   "source": [
    "# check distribution of fam_status and age with a crosstab\n",
    "crosstab = pd.crosstab(unique_customers['fam_status'], unique_customers['profile_age'], dropna = False)\n",
    "crosstab"
   ]
  },
  {
   "cell_type": "code",
   "execution_count": null,
   "id": "d2d245e2",
   "metadata": {},
   "outputs": [],
   "source": [
    "# check distribution of fam_status and \"'n_dependants' is 0\" with a crosstab\n",
    "zero_dependants = unique_customers['n_dependants'] == 0\n",
    "crosstab = pd.crosstab(unique_customers['fam_status'], zero_dependants)\n",
    "\n",
    "# Rename the columns for readability in the table\n",
    "crosstab.columns = ['With kids', 'No kids']\n",
    "crosstab"
   ]
  },
  {
   "cell_type": "code",
   "execution_count": null,
   "id": "d75f59f2",
   "metadata": {},
   "outputs": [],
   "source": [
    "# check distribution of 'profile_age' and \"'n_dependants' is 0\" with a crosstab\n",
    "zero_dependants = unique_customers['n_dependants'] == 0\n",
    "crosstab = pd.crosstab(unique_customers['profile_age'], zero_dependants)\n",
    "\n",
    "# Rename the columns for readability in the table\n",
    "crosstab.columns = ['With kids', 'No kids']\n",
    "crosstab"
   ]
  },
  {
   "cell_type": "code",
   "execution_count": null,
   "id": "15a61462",
   "metadata": {},
   "outputs": [],
   "source": []
  },
  {
   "cell_type": "markdown",
   "id": "8353a9e7",
   "metadata": {},
   "source": [
    "### Export these dataframes"
   ]
  },
  {
   "cell_type": "code",
   "execution_count": null,
   "id": "cce21a2c",
   "metadata": {},
   "outputs": [],
   "source": [
    "# export the icac df after the merge with 'department' names \n",
    "icac.to_pickle(os.path.join(path, '02 Data','Prepared Data', 'icac2.pkl'))"
   ]
  },
  {
   "cell_type": "code",
   "execution_count": null,
   "id": "a794b32b",
   "metadata": {},
   "outputs": [],
   "source": [
    "# export the 'unique_customers' df\n",
    "unique_customers.to_pickle(os.path.join(path,'02 Data','Prepared Data', 'unique_customers.pkl'))"
   ]
  },
  {
   "cell_type": "markdown",
   "id": "0521308d",
   "metadata": {},
   "source": [
    "***"
   ]
  },
  {
   "cell_type": "markdown",
   "id": "19d4100a",
   "metadata": {},
   "source": [
    "### Create profiles (based on income, age, dependants, certain departments): "
   ]
  },
  {
   "cell_type": "code",
   "execution_count": 22,
   "id": "013086d4",
   "metadata": {},
   "outputs": [
    {
     "name": "stderr",
     "output_type": "stream",
     "text": [
      "/var/folders/s0/b631rndx6sv1py5f9s6wc7y00000gn/T/ipykernel_16783/1138466513.py:2: FutureWarning: Setting an item of incompatible dtype is deprecated and will raise in a future error of pandas. Value 'affluent senior' has dtype incompatible with float64, please explicitly cast to a compatible dtype first.\n",
      "  unique_customers.loc[\n"
     ]
    }
   ],
   "source": [
    "# \"Affluent Seniors\": affluent / seniors / no_kids\n",
    "unique_customers.loc[\n",
    "    (unique_customers['profile_income'] == \"affluent\") & \n",
    "    (unique_customers['profile_age'] == \"senior\") & \n",
    "    (unique_customers['n_dependants'] == 0), \n",
    "    'customer_profile'] = 'affluent senior'"
   ]
  },
  {
   "cell_type": "code",
   "execution_count": 23,
   "id": "da26e32a",
   "metadata": {},
   "outputs": [],
   "source": [
    "# \"Affluent Seniors with kids\": affluent / seniors / with_kids\n",
    "unique_customers.loc[\n",
    "    (unique_customers['profile_income'] == \"affluent\") & \n",
    "    (unique_customers['profile_age'] == \"senior\") & \n",
    "    (unique_customers['n_dependants'] > 0), \n",
    "    'customer_profile'] = 'affluent senior with kids'"
   ]
  },
  {
   "cell_type": "code",
   "execution_count": 24,
   "id": "52fbd285",
   "metadata": {},
   "outputs": [],
   "source": [
    "# \"Economical Seniors\": economical / seniors / no_kids\n",
    "unique_customers.loc[\n",
    "    (unique_customers['profile_income'] == \"economical\") &\n",
    "    (unique_customers['profile_age'] == \"senior\") & \n",
    "    (unique_customers['n_dependants'] == 0), \n",
    "    'customer_profile'] = 'economical senior'"
   ]
  },
  {
   "cell_type": "code",
   "execution_count": 25,
   "id": "ec3cda71",
   "metadata": {},
   "outputs": [],
   "source": [
    "# \"Economical Seniors with kids\": economical / seniors / with kids\n",
    "unique_customers.loc[\n",
    "    (unique_customers['profile_income'] == \"economical\") &\n",
    "    (unique_customers['profile_age'] == \"senior\") & \n",
    "    (unique_customers['n_dependants'] > 0), \n",
    "    'customer_profile'] = 'economical senior with kids'"
   ]
  },
  {
   "cell_type": "code",
   "execution_count": 26,
   "id": "e5203da6",
   "metadata": {},
   "outputs": [],
   "source": [
    "# \"Affluent Young\": affluent / young / no_kids\n",
    "unique_customers.loc[\n",
    "    (unique_customers['profile_income'] == \"affluent\") & \n",
    "    (unique_customers['profile_age'] == \"young\") & \n",
    "    (unique_customers['n_dependants'] == 0),\n",
    "    'customer_profile'] = 'affluent young'"
   ]
  },
  {
   "cell_type": "code",
   "execution_count": 27,
   "id": "64a21899",
   "metadata": {},
   "outputs": [],
   "source": [
    "# \"Affluent Young\": affluent / young / with kids\n",
    "unique_customers.loc[\n",
    "    (unique_customers['profile_income'] == \"affluent\") & \n",
    "    (unique_customers['profile_age'] == \"young\") & \n",
    "    (unique_customers['n_dependants'] > 0),\n",
    "    'customer_profile'] = 'affluent young with kids'"
   ]
  },
  {
   "cell_type": "code",
   "execution_count": 28,
   "id": "8202cc2c",
   "metadata": {},
   "outputs": [],
   "source": [
    "# \"Economical Young\": economical / young / no_kids\n",
    "unique_customers.loc[\n",
    "    (unique_customers['profile_income'] == \"economical\") & \n",
    "    (unique_customers['profile_age'] == \"young\") & \n",
    "    (unique_customers['n_dependants'] == 0),\n",
    "    'customer_profile'] = 'economical young'"
   ]
  },
  {
   "cell_type": "code",
   "execution_count": 29,
   "id": "d2c72362",
   "metadata": {},
   "outputs": [],
   "source": [
    "# \"Economical Young with kids\": economical / young / with kids\n",
    "unique_customers.loc[\n",
    "    (unique_customers['profile_income'] == \"economical\") & \n",
    "    (unique_customers['profile_age'] == \"young\") & \n",
    "    (unique_customers['n_dependants'] > 0),\n",
    "    'customer_profile'] = 'economical young with kids'"
   ]
  },
  {
   "cell_type": "code",
   "execution_count": 30,
   "id": "5c4c91a1",
   "metadata": {},
   "outputs": [
    {
     "data": {
      "text/plain": [
       "customer_profile\n",
       "economical young with kids     48259\n",
       "affluent senior with kids      40013\n",
       "economical senior with kids    21099\n",
       "economical young               16298\n",
       "affluent senior                13268\n",
       "affluent young with kids       12533\n",
       "economical senior               6894\n",
       "affluent young                  4267\n",
       "Name: count, dtype: int64"
      ]
     },
     "execution_count": 30,
     "metadata": {},
     "output_type": "execute_result"
    }
   ],
   "source": [
    "# check the numbers of the new profiles\n",
    "unique_customers['customer_profile'].value_counts(dropna = False)"
   ]
  },
  {
   "cell_type": "markdown",
   "id": "56bf215d",
   "metadata": {},
   "source": [
    "***"
   ]
  },
  {
   "cell_type": "markdown",
   "id": "6d68d547",
   "metadata": {},
   "source": [
    "## Q6: Create an appropriate visualization to show the distribution of profiles."
   ]
  },
  {
   "cell_type": "code",
   "execution_count": null,
   "id": "68410b69",
   "metadata": {},
   "outputs": [],
   "source": [
    "# make a set of the customer profiles for a chart\n",
    "counts = unique_customers['customer_profile'].value_counts()\n",
    "\n",
    "# make a bar chart\n",
    "bar2 = counts.plot.bar(color='navy')\n",
    "plt.title('Customer Profile Counts')\n",
    "plt.xlabel('Customer Profile')\n",
    "plt.ylabel('Counts')\n",
    "plt.xticks(rotation=45)\n",
    "plt.show()"
   ]
  },
  {
   "cell_type": "code",
   "execution_count": null,
   "id": "8c3a9304",
   "metadata": {},
   "outputs": [],
   "source": [
    "# export figure:\n",
    "bar2.figure.savefig(os.path.join(path, '04 Analysis', 'Visualizations', 'Ex. 4.10_bar2.png'))"
   ]
  },
  {
   "cell_type": "code",
   "execution_count": 31,
   "id": "d9f9f949",
   "metadata": {},
   "outputs": [],
   "source": [
    "# export the 'unique_customers' df\n",
    "unique_customers.to_pickle(os.path.join(path,'02 Data','Prepared Data', 'unique_customers.pkl'))"
   ]
  },
  {
   "cell_type": "markdown",
   "id": "67f13bf8",
   "metadata": {},
   "source": [
    "***"
   ]
  },
  {
   "cell_type": "markdown",
   "id": "6fd07037",
   "metadata": {},
   "source": [
    "## Q7: Aggregate the max, mean, and min variables on a customer-profile level for usage frequency and expenditure."
   ]
  },
  {
   "cell_type": "code",
   "execution_count": null,
   "id": "dcd6ab2a",
   "metadata": {},
   "outputs": [],
   "source": [
    "# calculate stats on usage frequency for unique customers\n",
    "usage_frequency = unique_customers.groupby('customer_profile')['days_since_prior_order'].agg(['max', 'mean', 'median','min'])\n",
    "usage_frequency"
   ]
  },
  {
   "cell_type": "markdown",
   "id": "9c79c8fb",
   "metadata": {},
   "source": [
    "Comment: The min and max are uninformative but the mean/median values show a high level of consistency between the profiles for time between orders."
   ]
  },
  {
   "cell_type": "code",
   "execution_count": null,
   "id": "c5885ca0",
   "metadata": {},
   "outputs": [],
   "source": [
    "# calculate stats on usage frequency for unique customers\n",
    "expenditure = unique_customers.groupby('customer_profile')['prices'].agg(['max', 'mean', 'median', 'min'])\n",
    "expenditure"
   ]
  },
  {
   "cell_type": "markdown",
   "id": "de16133a",
   "metadata": {},
   "source": [
    "Comment: There is some variation in the max values between the profiles, although it is uninformative. There are 2 outlier values of \"14900.0\" that drag the mean values up, therefore, the median values are more true, however, they also show relatively little variation between the groups."
   ]
  },
  {
   "cell_type": "markdown",
   "id": "4706a16c",
   "metadata": {},
   "source": [
    "***"
   ]
  },
  {
   "cell_type": "markdown",
   "id": "81c54cc1",
   "metadata": {},
   "source": [
    "## Q8: Compare your customer profiles with regions and departments. Can you identify a link between them? "
   ]
  },
  {
   "cell_type": "markdown",
   "id": "1f4b31e5",
   "metadata": {},
   "source": [
    "##### REGIONS (using \"unique_customers\" df):"
   ]
  },
  {
   "cell_type": "code",
   "execution_count": null,
   "id": "9ce2026b",
   "metadata": {},
   "outputs": [],
   "source": [
    "# make a table of customers by profile in the 4 regions\n",
    "profile_region = unique_customers.pivot_table(index='Region', \n",
    "                                  columns='customer_profile', \n",
    "                                  aggfunc='size')"
   ]
  },
  {
   "cell_type": "code",
   "execution_count": null,
   "id": "05a48bf5",
   "metadata": {},
   "outputs": [],
   "source": [
    "# make a bar chart of the customer profiles by region\n",
    "cmap = plt.cm.Set1\n",
    "colors = cmap(np.linspace(0, 1, len(counts)))\n",
    "bar3 = profile_region.plot.bar(figsize=(6, 4), color = colors)\n",
    "plt.title('Distribution of Customer Profiles by Region')\n",
    "plt.ylabel('Number of Customers')\n",
    "plt.xticks(rotation=45)\n",
    "plt.legend(title='Profiles:', bbox_to_anchor=(1.05, 1), loc='upper left')\n",
    "plt.show()"
   ]
  },
  {
   "cell_type": "code",
   "execution_count": null,
   "id": "bbaa8cec",
   "metadata": {},
   "outputs": [],
   "source": [
    "# export figure:\n",
    "bar3.figure.savefig(os.path.join(path, '04 Analysis', 'Visualizations', 'Ex. 4.10_bar3.png'))"
   ]
  },
  {
   "cell_type": "markdown",
   "id": "08b164f0",
   "metadata": {},
   "source": [
    "Comment: There appear to be no regional differences in the profiles."
   ]
  },
  {
   "cell_type": "markdown",
   "id": "205ffa54",
   "metadata": {},
   "source": [
    "***"
   ]
  },
  {
   "cell_type": "markdown",
   "id": "da92c2d1",
   "metadata": {},
   "source": [
    "##### DEPARTMENTS (using \"unique_customers\" df):"
   ]
  },
  {
   "cell_type": "code",
   "execution_count": null,
   "id": "f442e4df",
   "metadata": {},
   "outputs": [],
   "source": [
    "# total numbers of orders each department per region\n",
    "dept_units_sold_region = icac.pivot_table(index='Region', \n",
    "                                              columns='department', \n",
    "                                              values='product_id', \n",
    "                                              aggfunc='count')"
   ]
  },
  {
   "cell_type": "code",
   "execution_count": null,
   "id": "db7b26fa",
   "metadata": {},
   "outputs": [],
   "source": [
    "# chart \"Total Department Units Sold by Region\"\n",
    "bar4 = dept_units_sold_region.plot.bar(stacked=True, figsize=(10, 6))\n",
    "plt.title('Total Department Units Sold by Region')\n",
    "plt.ylabel('Total Units Sold')\n",
    "plt.xticks(rotation=45)\n",
    "plt.legend(title='Department', bbox_to_anchor=(1.05, 1), loc='upper left')\n",
    "plt.show()"
   ]
  },
  {
   "cell_type": "code",
   "execution_count": null,
   "id": "d27ec09e",
   "metadata": {},
   "outputs": [],
   "source": [
    "# export figure:\n",
    "bar4.figure.savefig(os.path.join(path, '04 Analysis', 'Visualizations', 'Ex. 4.10_bar4.png'))"
   ]
  },
  {
   "cell_type": "code",
   "execution_count": null,
   "id": "dcc3db47",
   "metadata": {},
   "outputs": [],
   "source": [
    "# normalize the total department units sold to the numbers of unique customers per region\n",
    "normalized_units_sold = dept_units_sold_region.div(customers_per_region, axis='index')"
   ]
  },
  {
   "cell_type": "code",
   "execution_count": null,
   "id": "44098be4",
   "metadata": {},
   "outputs": [],
   "source": [
    "# plot the normalized units sold\n",
    "bar5 = normalized_units_sold.plot.bar(stacked=True, figsize=(10, 6))\n",
    "plt.title('Total Department Units Sold by Region Divided by Total Customers')\n",
    "plt.ylabel('Total Units Sold')\n",
    "plt.xticks(rotation=45)\n",
    "plt.legend(title='Department', bbox_to_anchor=(1.05, 1), loc='upper left')\n",
    "plt.show()"
   ]
  },
  {
   "cell_type": "code",
   "execution_count": null,
   "id": "f0c81f9e",
   "metadata": {},
   "outputs": [],
   "source": [
    "# export figure:\n",
    "bar5.figure.savefig(os.path.join(path, '04 Analysis', 'Visualizations', 'Ex. 4.10_bar5.png'))"
   ]
  },
  {
   "cell_type": "markdown",
   "id": "39799e44",
   "metadata": {},
   "source": [
    "Comment: After taking the total units sold by department and dividing it by the number of unique customers per region, it is clear that there are not differences by region in the sales of different departments in general. "
   ]
  },
  {
   "cell_type": "markdown",
   "id": "7e2750b7",
   "metadata": {},
   "source": [
    "The next step is to assess purchases by customer profile. To do this, the \"unique_customers\" df, containing the customer profile flags, has to be merged to the \"active customers\" df (aka \"icac\"). This will allow us to analyze customer purchases by total sum and by department and by region, according to customer profiles."
   ]
  },
  {
   "cell_type": "markdown",
   "id": "4facb38e",
   "metadata": {},
   "source": [
    "### Add the customer profiles to the active customers df: \n",
    "use the icac df (with separate rows for all products purchsed) but merge the \"unique_customers\" df back into the original \"icac\" df to flag the customers by their profile."
   ]
  },
  {
   "cell_type": "code",
   "execution_count": null,
   "id": "d56761c1",
   "metadata": {},
   "outputs": [],
   "source": [
    "# merge icac (instacart active customers) to the unique_customer df to get the profiles in icac\n",
    "icac_profiles = icac.merge(unique_customers[['user_id', 'customer_profile']], on='user_id', how='left')"
   ]
  },
  {
   "cell_type": "code",
   "execution_count": null,
   "id": "44707b23",
   "metadata": {},
   "outputs": [],
   "source": [
    "# check the shape\n",
    "icac_profiles.shape"
   ]
  },
  {
   "cell_type": "code",
   "execution_count": null,
   "id": "bffd50e8",
   "metadata": {},
   "outputs": [],
   "source": [
    "# check the head\n",
    "icac_profiles.head()"
   ]
  },
  {
   "cell_type": "code",
   "execution_count": null,
   "id": "cc8d519d",
   "metadata": {},
   "outputs": [],
   "source": [
    "# export the new df, \"icac_profiles\"\n",
    "icac_profiles.to_pickle(os.path.join(path, '02 Data','Prepared Data', 'icac_profiles.pkl'))"
   ]
  },
  {
   "cell_type": "markdown",
   "id": "c35a0713",
   "metadata": {},
   "source": [
    "***"
   ]
  },
  {
   "cell_type": "markdown",
   "id": "1eb711d8",
   "metadata": {},
   "source": [
    "### Analyse the product preferences per region for select customer profiles"
   ]
  },
  {
   "cell_type": "code",
   "execution_count": null,
   "id": "7d627803",
   "metadata": {},
   "outputs": [],
   "source": [
    "# import the new df, \"icac_profiles\"\n",
    "icac_profiles = pd.read_pickle(os.path.join(path, '02 Data', 'Prepared Data', 'icac_profiles.pkl'))"
   ]
  },
  {
   "cell_type": "markdown",
   "id": "b038d27f",
   "metadata": {},
   "source": [
    "##### Make a plot of department preferences for all customers"
   ]
  },
  {
   "cell_type": "code",
   "execution_count": null,
   "id": "04f7b2bd",
   "metadata": {},
   "outputs": [],
   "source": [
    "# make a series for all departments purchased by all customers\n",
    "department_sums_all = icac_profiles.groupby('department')['prices'].sum().sort_values(ascending=False)"
   ]
  },
  {
   "cell_type": "code",
   "execution_count": null,
   "id": "2217896e",
   "metadata": {},
   "outputs": [],
   "source": [
    "# plot it\n",
    "bar12 = department_sums_all.plot.bar(title='Department Preferences of all customers')\n",
    "plt.show()"
   ]
  },
  {
   "cell_type": "code",
   "execution_count": null,
   "id": "763c9731",
   "metadata": {},
   "outputs": [],
   "source": [
    "# export figure:\n",
    "bar12.figure.savefig(os.path.join(path, '04 Analysis', 'Visualizations', 'Ex. 4.10_bar12.png'))"
   ]
  },
  {
   "cell_type": "markdown",
   "id": "0ef1d9fe",
   "metadata": {},
   "source": [
    "1. \"Affluent Seniors with Kids\""
   ]
  },
  {
   "cell_type": "code",
   "execution_count": null,
   "id": "b2aa1f24",
   "metadata": {},
   "outputs": [],
   "source": [
    "# make a df of affluent young\n",
    "affluent_seniors_with_kids_df = icac_profiles[(icac_profiles['customer_profile'] == \"affluent senior with kids\")]"
   ]
  },
  {
   "cell_type": "code",
   "execution_count": null,
   "id": "9b09cc1e",
   "metadata": {},
   "outputs": [],
   "source": [
    "affluent_seniors_with_kids_df.head()"
   ]
  },
  {
   "cell_type": "code",
   "execution_count": null,
   "id": "93c2f16b",
   "metadata": {},
   "outputs": [],
   "source": [
    "affluent_seniors_with_kids_df.shape"
   ]
  },
  {
   "cell_type": "code",
   "execution_count": null,
   "id": "01ee443c",
   "metadata": {},
   "outputs": [],
   "source": [
    "# make a series of the products purchased by \"affluent seniors with kids\" for plotting\n",
    "department_sums = affluent_seniors_with_kids_df.groupby('department')['prices'].sum().sort_values(ascending=False)"
   ]
  },
  {
   "cell_type": "code",
   "execution_count": null,
   "id": "8a66b429",
   "metadata": {},
   "outputs": [],
   "source": [
    "# plot them\n",
    "bar6 = department_sums.plot.bar(title='Product Preferences of Affluent seniors with kids')\n",
    "plt.show()"
   ]
  },
  {
   "cell_type": "code",
   "execution_count": null,
   "id": "8a21ce3f",
   "metadata": {},
   "outputs": [],
   "source": [
    "# export figure:\n",
    "bar6.figure.savefig(os.path.join(path, '04 Analysis', 'Visualizations', 'Ex. 4.10_bar6.png'))"
   ]
  },
  {
   "cell_type": "code",
   "execution_count": null,
   "id": "06dc6e2a",
   "metadata": {},
   "outputs": [],
   "source": [
    "# group the \"affluent seniors with kids\" customer profile by region and department\n",
    "ask_region = affluent_seniors_with_kids_df.pivot_table(index='Region', \n",
    "                                                      columns='department', \n",
    "                                                      values='product_id', \n",
    "                                                      aggfunc='count')"
   ]
  },
  {
   "cell_type": "code",
   "execution_count": null,
   "id": "33d3bbcb",
   "metadata": {},
   "outputs": [],
   "source": [
    "# Plot the data\n",
    "bar7 = ask_region.plot.bar(figsize=(15, 8), stacked=True)\n",
    "plt.title('Product Preferences of Affluent Seniors with kids by Region')\n",
    "plt.xlabel('Region')\n",
    "plt.ylabel('Number of Purchases')\n",
    "plt.legend(title='Department', bbox_to_anchor=(1.05, 1), loc='upper left')\n",
    "plt.tight_layout()\n",
    "plt.show()"
   ]
  },
  {
   "cell_type": "code",
   "execution_count": null,
   "id": "3247eb1f",
   "metadata": {},
   "outputs": [],
   "source": [
    "# export figure:\n",
    "bar7.figure.savefig(os.path.join(path, '04 Analysis', 'Visualizations', 'Ex. 4.10_bar7.png'))"
   ]
  },
  {
   "cell_type": "code",
   "execution_count": null,
   "id": "79e372e4",
   "metadata": {},
   "outputs": [],
   "source": [
    "# normalize it to the number of customers per region \n",
    "ask_region_norm = ask_region.div(customers_per_region, axis='index')"
   ]
  },
  {
   "cell_type": "code",
   "execution_count": null,
   "id": "6e47c2db",
   "metadata": {},
   "outputs": [],
   "source": [
    "# plot the normalized data\n",
    "bar8 = ask_region_norm.plot.bar(figsize=(15, 8), stacked=True)\n",
    "plt.title('Product Preferences of Affluent young - no kids- divided by total customers - by Region')\n",
    "plt.xlabel('Region')\n",
    "plt.ylabel('Number of Purchases')\n",
    "plt.legend(title='Department', bbox_to_anchor=(1.05, 1), loc='upper left')\n",
    "plt.tight_layout()\n",
    "plt.show()"
   ]
  },
  {
   "cell_type": "code",
   "execution_count": null,
   "id": "af34d1c3",
   "metadata": {},
   "outputs": [],
   "source": [
    "# export figure:\n",
    "bar8.figure.savefig(os.path.join(path, '04 Analysis', 'Visualizations', 'Ex. 4.10_bar8.png'))"
   ]
  },
  {
   "cell_type": "markdown",
   "id": "1eda90b8",
   "metadata": {},
   "source": [
    "Comment: There are no obvious differences between the regions for \"affluent seniors with kids\"."
   ]
  },
  {
   "cell_type": "code",
   "execution_count": null,
   "id": "6fd2eb38",
   "metadata": {},
   "outputs": [],
   "source": []
  },
  {
   "cell_type": "markdown",
   "id": "7f03623c",
   "metadata": {},
   "source": [
    "2. \"Affluent Young - no Kids\""
   ]
  },
  {
   "cell_type": "code",
   "execution_count": null,
   "id": "1b23eada",
   "metadata": {},
   "outputs": [],
   "source": [
    "# make a df of affluent young - no kids\n",
    "affluent_young_df = icac_profiles[(icac_profiles['customer_profile'] == \"affluent young\")]"
   ]
  },
  {
   "cell_type": "code",
   "execution_count": null,
   "id": "40ee0fa5",
   "metadata": {},
   "outputs": [],
   "source": [
    "# check the head\n",
    "affluent_young_df.head()"
   ]
  },
  {
   "cell_type": "code",
   "execution_count": null,
   "id": "3415250b",
   "metadata": {},
   "outputs": [],
   "source": [
    "# check the shape\n",
    "affluent_young_df.shape"
   ]
  },
  {
   "cell_type": "code",
   "execution_count": null,
   "id": "743ccb87",
   "metadata": {},
   "outputs": [],
   "source": [
    "# make a series of the products purchased by affluent seniors with kids for plotting\n",
    "department_sums2 = affluent_young_df.groupby('department')['prices'].sum().sort_values(ascending=False)"
   ]
  },
  {
   "cell_type": "code",
   "execution_count": null,
   "id": "d48ecf92",
   "metadata": {},
   "outputs": [],
   "source": [
    "# plot them\n",
    "bar9 = department_sums2.plot.bar(title='Product Preferences of Affluent young - no kids')\n",
    "plt.show()"
   ]
  },
  {
   "cell_type": "code",
   "execution_count": null,
   "id": "c90cece4",
   "metadata": {},
   "outputs": [],
   "source": [
    "# export figure:\n",
    "bar9.figure.savefig(os.path.join(path, '04 Analysis', 'Visualizations', 'Ex. 4.10_bar9.png'))"
   ]
  },
  {
   "cell_type": "code",
   "execution_count": null,
   "id": "db23af75",
   "metadata": {},
   "outputs": [],
   "source": [
    "# group the \"affluent young - no kids (ay)\" customer profile by region and department\n",
    "ay_region = affluent_young_df.pivot_table(index='Region', \n",
    "                                                      columns='department', \n",
    "                                                      values='product_id', \n",
    "                                                      aggfunc='count')\n"
   ]
  },
  {
   "cell_type": "code",
   "execution_count": null,
   "id": "075124f6",
   "metadata": {},
   "outputs": [],
   "source": [
    "# Plot the data\n",
    "bar10 = ay_region.plot.bar(figsize=(15, 8), stacked=True)\n",
    "plt.title('Product Preferences of Affluent young - no kids by Region')\n",
    "plt.xlabel('Region')\n",
    "plt.ylabel('Number of Purchases')\n",
    "plt.legend(title='Department', bbox_to_anchor=(1.05, 1), loc='upper left')\n",
    "plt.tight_layout()\n",
    "plt.show()"
   ]
  },
  {
   "cell_type": "code",
   "execution_count": null,
   "id": "eb00ebd2",
   "metadata": {},
   "outputs": [],
   "source": [
    "# normalize it to the number of customers per region \n",
    "ay_region_norm = ask_region.div(customers_per_region, axis='index')"
   ]
  },
  {
   "cell_type": "code",
   "execution_count": null,
   "id": "981c946f",
   "metadata": {},
   "outputs": [],
   "source": []
  },
  {
   "cell_type": "code",
   "execution_count": null,
   "id": "62e71cd1",
   "metadata": {},
   "outputs": [],
   "source": [
    "# plot the normalized data\n",
    "ay_region_norm.plot(kind='bar', figsize=(15, 8), stacked=True)\n",
    "plt.title('Product Preferences of Affluent Seniors with kids by Region')\n",
    "plt.xlabel('Region')\n",
    "plt.ylabel('Number of Purchases')\n",
    "plt.legend(title='Department', bbox_to_anchor=(1.05, 1), loc='upper left')\n",
    "plt.tight_layout()\n",
    "plt.show()"
   ]
  },
  {
   "cell_type": "code",
   "execution_count": null,
   "id": "0eaea799",
   "metadata": {},
   "outputs": [],
   "source": [
    "# export figure:\n",
    "bar10.figure.savefig(os.path.join(path, '04 Analysis', 'Visualizations', 'Ex. 4.10_bar10.png'))"
   ]
  },
  {
   "cell_type": "code",
   "execution_count": null,
   "id": "47d0cdd8",
   "metadata": {},
   "outputs": [],
   "source": [
    "Comment: There are no obvious differences between the regions for \"affluent young\"."
   ]
  },
  {
   "cell_type": "code",
   "execution_count": null,
   "id": "47a14f6e",
   "metadata": {},
   "outputs": [],
   "source": []
  }
 ],
 "metadata": {
  "kernelspec": {
   "display_name": "Python 3 (ipykernel)",
   "language": "python",
   "name": "python3"
  },
  "language_info": {
   "codemirror_mode": {
    "name": "ipython",
    "version": 3
   },
   "file_extension": ".py",
   "mimetype": "text/x-python",
   "name": "python",
   "nbconvert_exporter": "python",
   "pygments_lexer": "ipython3",
   "version": "3.11.5"
  },
  "toc": {
   "base_numbering": 1,
   "nav_menu": {},
   "number_sections": false,
   "sideBar": true,
   "skip_h1_title": false,
   "title_cell": "Table of Contents",
   "title_sidebar": "Contents",
   "toc_cell": true,
   "toc_position": {},
   "toc_section_display": true,
   "toc_window_display": false
  }
 },
 "nbformat": 4,
 "nbformat_minor": 5
}
