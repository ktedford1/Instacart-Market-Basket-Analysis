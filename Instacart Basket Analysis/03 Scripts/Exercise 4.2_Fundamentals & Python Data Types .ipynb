{
 "cells": [
  {
   "cell_type": "markdown",
   "id": "d022f044",
   "metadata": {},
   "source": [
    "## Importing libraries"
   ]
  },
  {
   "cell_type": "code",
   "execution_count": 1,
   "id": "b0c5178b",
   "metadata": {},
   "outputs": [],
   "source": [
    "import pandas as pd\n",
    "import numpy as np\n",
    "import os"
   ]
  },
  {
   "cell_type": "markdown",
   "id": "b091c0a1",
   "metadata": {},
   "source": [
    "## Working with Python datatypes"
   ]
  },
  {
   "cell_type": "code",
   "execution_count": 15,
   "id": "9d02bfd4",
   "metadata": {},
   "outputs": [
    {
     "name": "stdout",
     "output_type": "stream",
     "text": [
      "100\n",
      "100\n",
      "100\n"
     ]
    }
   ],
   "source": [
    "x = 50 + 50\n",
    "y = 200 - 100\n",
    "z = 20 + 20 + 20 + 20 + 20\n",
    "print (x)\n",
    "print (y)\n",
    "print (z)"
   ]
  },
  {
   "cell_type": "code",
   "execution_count": 14,
   "id": "2385037f",
   "metadata": {},
   "outputs": [
    {
     "name": "stdout",
     "output_type": "stream",
     "text": [
      "2.75\n",
      "5.25\n",
      "0.5238095238095238\n"
     ]
    }
   ],
   "source": [
    "a = 2.75\n",
    "b = 5.25\n",
    "c = a / b\n",
    "print(a)\n",
    "print(b)\n",
    "print(c)"
   ]
  },
  {
   "cell_type": "code",
   "execution_count": 17,
   "id": "2a3c3283",
   "metadata": {},
   "outputs": [
    {
     "name": "stdout",
     "output_type": "stream",
     "text": [
      "Sunday\n"
     ]
    }
   ],
   "source": [
    "f = \"Sun\"\n",
    "g = \"day\"\n",
    "h = f + g\n",
    "print(h)"
   ]
  },
  {
   "cell_type": "code",
   "execution_count": 18,
   "id": "9115b417",
   "metadata": {},
   "outputs": [
    {
     "name": "stdout",
     "output_type": "stream",
     "text": [
      "Oh no, I see - a spider web is tangled up with me\n"
     ]
    }
   ],
   "source": [
    "i = \"Oh no, I see - \"\n",
    "j = \"a spider web is tangled up with me\"\n",
    "k = i + j\n",
    "print(k)"
   ]
  },
  {
   "cell_type": "code",
   "execution_count": 19,
   "id": "c842189e",
   "metadata": {},
   "outputs": [
    {
     "name": "stdout",
     "output_type": "stream",
     "text": [
      "Come up to meet you, tell you I'm sorry, you don't know how lovely you are\n"
     ]
    }
   ],
   "source": [
    "l = \"Come up to meet you, tell you I'm sorry, \"\n",
    "m = \"you don't know how lovely you are\"\n",
    "n = l + m\n",
    "print(n)"
   ]
  },
  {
   "cell_type": "code",
   "execution_count": 21,
   "id": "0875de8d",
   "metadata": {},
   "outputs": [
    {
     "name": "stdout",
     "output_type": "stream",
     "text": [
      "nom nom nom nom nom nom nom nom nom nom nom nom nom nom nom nom nom nom nom nom nom nom nom nom nom nom nom nom nom nom nom nom nom nom nom nom nom nom nom nom nom nom nom nom nom nom nom nom nom nom nom nom nom nom nom nom nom nom nom nom nom nom nom nom nom nom nom nom nom nom nom nom nom nom nom nom nom nom nom nom nom nom nom nom nom nom nom nom nom nom nom nom nom nom nom nom nom nom nom nom \n"
     ]
    }
   ],
   "source": [
    "print(\"nom \" * 100)"
   ]
  },
  {
   "cell_type": "code",
   "execution_count": null,
   "id": "45da0d5a",
   "metadata": {},
   "outputs": [],
   "source": []
  }
 ],
 "metadata": {
  "kernelspec": {
   "display_name": "Python 3 (ipykernel)",
   "language": "python",
   "name": "python3"
  },
  "language_info": {
   "codemirror_mode": {
    "name": "ipython",
    "version": 3
   },
   "file_extension": ".py",
   "mimetype": "text/x-python",
   "name": "python",
   "nbconvert_exporter": "python",
   "pygments_lexer": "ipython3",
   "version": "3.11.5"
  }
 },
 "nbformat": 4,
 "nbformat_minor": 5
}
