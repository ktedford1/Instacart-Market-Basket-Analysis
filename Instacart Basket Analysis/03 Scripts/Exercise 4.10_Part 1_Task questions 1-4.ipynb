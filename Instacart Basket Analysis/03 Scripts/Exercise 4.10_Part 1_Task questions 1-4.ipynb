{
 "cells": [
  {
   "cell_type": "markdown",
   "id": "19e6f70c",
   "metadata": {
    "toc": true
   },
   "source": [
    "<h1>Table of Contents<span class=\"tocSkip\"></span></h1>\n",
    "<div class=\"toc\"><ul class=\"toc-item\"><li><span><a href=\"#Exercise-4.10_Part-1:-Instacart-customer-profiling\" data-toc-modified-id=\"Exercise-4.10_Part-1:-Instacart-customer-profiling-1\">Exercise 4.10_Part 1: Instacart customer profiling</a></span><ul class=\"toc-item\"><li><span><a href=\"#Table-of-Contents\" data-toc-modified-id=\"Table-of-Contents-1.1\">Table of Contents</a></span><ul class=\"toc-item\"><li><ul class=\"toc-item\"><li><span><a href=\"#1.2-Import-Libraries\" data-toc-modified-id=\"1.2-Import-Libraries-1.1.0.1\">1.2 Import Libraries</a></span></li><li><span><a href=\"#Task-Questions-1-4\" data-toc-modified-id=\"Task-Questions-1-4-1.1.0.2\">Task Questions 1-4</a></span></li></ul></li></ul></li><li><span><a href=\"#Import-Libraries\" data-toc-modified-id=\"Import-Libraries-1.2\">Import Libraries</a></span></li><li><span><a href=\"#Task-Questions-1---4\" data-toc-modified-id=\"Task-Questions-1---4-1.3\">Task Questions 1 - 4</a></span><ul class=\"toc-item\"><li><span><a href=\"#Q1:-Import-the-dataset-from-Part-1-of-the-Exercise-4.9-comprising-the-cleaned-orders_products-merged-with-the-customers-df\" data-toc-modified-id=\"Q1:-Import-the-dataset-from-Part-1-of-the-Exercise-4.9-comprising-the-cleaned-orders_products-merged-with-the-customers-df-1.3.1\">Q1: Import the dataset from Part 1 of the Exercise 4.9 comprising the cleaned orders_products merged with the customers df</a></span></li><li><span><a href=\"#Q2:-Consider-any-security-implications-that-might-exist-for-this-new-data.-You’ll-need-to-address-any-PII-data-in-the-data-before-continuing-your-analysis.\" data-toc-modified-id=\"Q2:-Consider-any-security-implications-that-might-exist-for-this-new-data.-You’ll-need-to-address-any-PII-data-in-the-data-before-continuing-your-analysis.-1.3.2\">Q2: Consider any security implications that might exist for this new data. You’ll need to address any PII data in the data before continuing your analysis.</a></span></li><li><span><a href=\"#Q3-Part-1:-Create-a-regional-segmentation-of-the-data.-You’ll-need-to-create-a-“Region”-column-based-on-the-“State”-column-from-your-customers-data-set.\" data-toc-modified-id=\"Q3-Part-1:-Create-a-regional-segmentation-of-the-data.-You’ll-need-to-create-a-“Region”-column-based-on-the-“State”-column-from-your-customers-data-set.-1.3.3\">Q3 Part 1: Create a regional segmentation of the data. You’ll need to create a “Region” column based on the “State” column from your customers data set.</a></span></li><li><span><a href=\"#Q3-Part-2:-Determine-whether-there’s-a-difference-in-spending-habits-between-the-different-U.S.-regions.-(Hint:-You-can-do-this-by-crossing-the-variable-you-just-created-with-the-spending-flag.)\" data-toc-modified-id=\"Q3-Part-2:-Determine-whether-there’s-a-difference-in-spending-habits-between-the-different-U.S.-regions.-(Hint:-You-can-do-this-by-crossing-the-variable-you-just-created-with-the-spending-flag.)-1.3.4\">Q3 Part 2: Determine whether there’s a difference in spending habits between the different U.S. regions. (Hint: You can do this by crossing the variable you just created with the spending flag.)</a></span></li><li><span><a href=\"#Q4:-Create-an-exclusion-flag-for-low-activity-customers-(customers-with-less-than-5-orders)-and-exclude-them-from-the-data.-Make-sure-you-export-this-sample.\" data-toc-modified-id=\"Q4:-Create-an-exclusion-flag-for-low-activity-customers-(customers-with-less-than-5-orders)-and-exclude-them-from-the-data.-Make-sure-you-export-this-sample.-1.3.5\">Q4: Create an exclusion flag for low-activity customers (customers with less than 5 orders) and exclude them from the data. Make sure you export this sample.</a></span></li></ul></li></ul></li></ul></div>"
   ]
  },
  {
   "cell_type": "markdown",
   "id": "9b0effb9",
   "metadata": {},
   "source": [
    "# Exercise 4.10_Part 1: Instacart customer profiling"
   ]
  },
  {
   "cell_type": "markdown",
   "id": "7e566f23",
   "metadata": {},
   "source": [
    "## Table of Contents"
   ]
  },
  {
   "cell_type": "markdown",
   "id": "8f62fdd4",
   "metadata": {},
   "source": [
    "#### 1.2 Import Libraries"
   ]
  },
  {
   "cell_type": "markdown",
   "id": "1d721fab",
   "metadata": {},
   "source": [
    "#### Task Questions 1-4"
   ]
  },
  {
   "cell_type": "markdown",
   "id": "e307bec7",
   "metadata": {},
   "source": [
    "##### Q1: Import the dataset from Part 1 of the Exercise 4.9 comprising the cleaned orders_products merged with the customers df"
   ]
  },
  {
   "cell_type": "markdown",
   "id": "73b142b3",
   "metadata": {},
   "source": []
  },
  {
   "cell_type": "markdown",
   "id": "6dac4698",
   "metadata": {},
   "source": []
  },
  {
   "cell_type": "markdown",
   "id": "596523b1",
   "metadata": {},
   "source": []
  },
  {
   "cell_type": "markdown",
   "id": "1bb2dd02",
   "metadata": {},
   "source": []
  },
  {
   "cell_type": "markdown",
   "id": "78658715",
   "metadata": {},
   "source": [
    "## Import Libraries"
   ]
  },
  {
   "cell_type": "code",
   "execution_count": 1,
   "id": "34b8f482",
   "metadata": {},
   "outputs": [],
   "source": [
    "import pandas as pd\n",
    "import numpy as np\n",
    "import os\n",
    "import matplotlib.pyplot as plt\n",
    "import seaborn as sn\n",
    "import scipy"
   ]
  },
  {
   "cell_type": "markdown",
   "id": "6db9768f",
   "metadata": {},
   "source": [
    "***"
   ]
  },
  {
   "cell_type": "markdown",
   "id": "ad6eac5e",
   "metadata": {},
   "source": [
    "## Task Questions 1 - 4"
   ]
  },
  {
   "cell_type": "markdown",
   "id": "7f290bf3",
   "metadata": {},
   "source": [
    "***"
   ]
  },
  {
   "cell_type": "markdown",
   "id": "8ef11b18",
   "metadata": {},
   "source": [
    "### Q1: Import the dataset from Part 1 of the Exercise 4.9 comprising the cleaned orders_products merged with the customers df"
   ]
  },
  {
   "cell_type": "code",
   "execution_count": 2,
   "id": "fe21c423",
   "metadata": {},
   "outputs": [],
   "source": [
    "# make a path\n",
    "path = r'/Users/profkdfischer/Instacart Basket Analysis'"
   ]
  },
  {
   "cell_type": "code",
   "execution_count": null,
   "id": "4c6aa28a",
   "metadata": {},
   "outputs": [],
   "source": [
    "# import the ords_prods that includes customers\n",
    "insta_final = pd.read_pickle(os.path.join(path, '02 Data', 'Prepared Data', 'ords_prods.pkl'))"
   ]
  },
  {
   "cell_type": "code",
   "execution_count": 4,
   "id": "c8ed25b8",
   "metadata": {},
   "outputs": [],
   "source": [
    "# display all the columns in the head() function\n",
    "pd.set_option('display.max_columns', None)"
   ]
  },
  {
   "cell_type": "code",
   "execution_count": 5,
   "id": "1326213d",
   "metadata": {},
   "outputs": [
    {
     "data": {
      "text/html": [
       "<div>\n",
       "<style scoped>\n",
       "    .dataframe tbody tr th:only-of-type {\n",
       "        vertical-align: middle;\n",
       "    }\n",
       "\n",
       "    .dataframe tbody tr th {\n",
       "        vertical-align: top;\n",
       "    }\n",
       "\n",
       "    .dataframe thead th {\n",
       "        text-align: right;\n",
       "    }\n",
       "</style>\n",
       "<table border=\"1\" class=\"dataframe\">\n",
       "  <thead>\n",
       "    <tr style=\"text-align: right;\">\n",
       "      <th></th>\n",
       "      <th>order_id</th>\n",
       "      <th>user_id</th>\n",
       "      <th>order_number</th>\n",
       "      <th>orders_day_of_week</th>\n",
       "      <th>orders_time</th>\n",
       "      <th>days_since_prior_order</th>\n",
       "      <th>new_customer</th>\n",
       "      <th>product_id</th>\n",
       "      <th>add_to_cart_order</th>\n",
       "      <th>reordered</th>\n",
       "      <th>product_name</th>\n",
       "      <th>aisle_id</th>\n",
       "      <th>department_id</th>\n",
       "      <th>prices</th>\n",
       "      <th>price_range_loc</th>\n",
       "      <th>busiest_day</th>\n",
       "      <th>busiest_period_of_day</th>\n",
       "      <th>max_order</th>\n",
       "      <th>loyalty_flag</th>\n",
       "      <th>spending_mean</th>\n",
       "      <th>spending_flag</th>\n",
       "      <th>user_frequency</th>\n",
       "      <th>spend_status</th>\n",
       "      <th>First Name</th>\n",
       "      <th>Last Name</th>\n",
       "      <th>Gender</th>\n",
       "      <th>STATE</th>\n",
       "      <th>Age</th>\n",
       "      <th>date_joined</th>\n",
       "      <th>n_dependants</th>\n",
       "      <th>fam_status</th>\n",
       "      <th>income</th>\n",
       "      <th>_merge</th>\n",
       "    </tr>\n",
       "  </thead>\n",
       "  <tbody>\n",
       "    <tr>\n",
       "      <th>0</th>\n",
       "      <td>2539329</td>\n",
       "      <td>1</td>\n",
       "      <td>1</td>\n",
       "      <td>2</td>\n",
       "      <td>8</td>\n",
       "      <td>NaN</td>\n",
       "      <td>True</td>\n",
       "      <td>196</td>\n",
       "      <td>1</td>\n",
       "      <td>0</td>\n",
       "      <td>Soda</td>\n",
       "      <td>77</td>\n",
       "      <td>7</td>\n",
       "      <td>9.0</td>\n",
       "      <td>Mid-range product</td>\n",
       "      <td>Regularly busy</td>\n",
       "      <td>Most orders</td>\n",
       "      <td>10</td>\n",
       "      <td>New customer</td>\n",
       "      <td>6.367797</td>\n",
       "      <td>Low Spender</td>\n",
       "      <td>NaN</td>\n",
       "      <td>NaN</td>\n",
       "      <td>Linda</td>\n",
       "      <td>Nguyen</td>\n",
       "      <td>Female</td>\n",
       "      <td>Alabama</td>\n",
       "      <td>31</td>\n",
       "      <td>2/17/2019</td>\n",
       "      <td>3</td>\n",
       "      <td>married</td>\n",
       "      <td>40423</td>\n",
       "      <td>both</td>\n",
       "    </tr>\n",
       "    <tr>\n",
       "      <th>1</th>\n",
       "      <td>2398795</td>\n",
       "      <td>1</td>\n",
       "      <td>2</td>\n",
       "      <td>3</td>\n",
       "      <td>7</td>\n",
       "      <td>15.0</td>\n",
       "      <td>False</td>\n",
       "      <td>196</td>\n",
       "      <td>1</td>\n",
       "      <td>1</td>\n",
       "      <td>Soda</td>\n",
       "      <td>77</td>\n",
       "      <td>7</td>\n",
       "      <td>9.0</td>\n",
       "      <td>Mid-range product</td>\n",
       "      <td>Least busy</td>\n",
       "      <td>Average orders</td>\n",
       "      <td>10</td>\n",
       "      <td>New customer</td>\n",
       "      <td>6.367797</td>\n",
       "      <td>Low Spender</td>\n",
       "      <td>20.5</td>\n",
       "      <td>Non-frequent customer</td>\n",
       "      <td>Linda</td>\n",
       "      <td>Nguyen</td>\n",
       "      <td>Female</td>\n",
       "      <td>Alabama</td>\n",
       "      <td>31</td>\n",
       "      <td>2/17/2019</td>\n",
       "      <td>3</td>\n",
       "      <td>married</td>\n",
       "      <td>40423</td>\n",
       "      <td>both</td>\n",
       "    </tr>\n",
       "    <tr>\n",
       "      <th>2</th>\n",
       "      <td>473747</td>\n",
       "      <td>1</td>\n",
       "      <td>3</td>\n",
       "      <td>3</td>\n",
       "      <td>12</td>\n",
       "      <td>21.0</td>\n",
       "      <td>False</td>\n",
       "      <td>196</td>\n",
       "      <td>1</td>\n",
       "      <td>1</td>\n",
       "      <td>Soda</td>\n",
       "      <td>77</td>\n",
       "      <td>7</td>\n",
       "      <td>9.0</td>\n",
       "      <td>Mid-range product</td>\n",
       "      <td>Least busy</td>\n",
       "      <td>Most orders</td>\n",
       "      <td>10</td>\n",
       "      <td>New customer</td>\n",
       "      <td>6.367797</td>\n",
       "      <td>Low Spender</td>\n",
       "      <td>13.0</td>\n",
       "      <td>Frequent customer</td>\n",
       "      <td>Linda</td>\n",
       "      <td>Nguyen</td>\n",
       "      <td>Female</td>\n",
       "      <td>Alabama</td>\n",
       "      <td>31</td>\n",
       "      <td>2/17/2019</td>\n",
       "      <td>3</td>\n",
       "      <td>married</td>\n",
       "      <td>40423</td>\n",
       "      <td>both</td>\n",
       "    </tr>\n",
       "    <tr>\n",
       "      <th>3</th>\n",
       "      <td>2254736</td>\n",
       "      <td>1</td>\n",
       "      <td>4</td>\n",
       "      <td>4</td>\n",
       "      <td>7</td>\n",
       "      <td>29.0</td>\n",
       "      <td>False</td>\n",
       "      <td>196</td>\n",
       "      <td>1</td>\n",
       "      <td>1</td>\n",
       "      <td>Soda</td>\n",
       "      <td>77</td>\n",
       "      <td>7</td>\n",
       "      <td>9.0</td>\n",
       "      <td>Mid-range product</td>\n",
       "      <td>Least busy</td>\n",
       "      <td>Average orders</td>\n",
       "      <td>10</td>\n",
       "      <td>New customer</td>\n",
       "      <td>6.367797</td>\n",
       "      <td>Low Spender</td>\n",
       "      <td>10.0</td>\n",
       "      <td>Frequent customer</td>\n",
       "      <td>Linda</td>\n",
       "      <td>Nguyen</td>\n",
       "      <td>Female</td>\n",
       "      <td>Alabama</td>\n",
       "      <td>31</td>\n",
       "      <td>2/17/2019</td>\n",
       "      <td>3</td>\n",
       "      <td>married</td>\n",
       "      <td>40423</td>\n",
       "      <td>both</td>\n",
       "    </tr>\n",
       "    <tr>\n",
       "      <th>4</th>\n",
       "      <td>431534</td>\n",
       "      <td>1</td>\n",
       "      <td>5</td>\n",
       "      <td>4</td>\n",
       "      <td>15</td>\n",
       "      <td>28.0</td>\n",
       "      <td>False</td>\n",
       "      <td>196</td>\n",
       "      <td>1</td>\n",
       "      <td>1</td>\n",
       "      <td>Soda</td>\n",
       "      <td>77</td>\n",
       "      <td>7</td>\n",
       "      <td>9.0</td>\n",
       "      <td>Mid-range product</td>\n",
       "      <td>Least busy</td>\n",
       "      <td>Most orders</td>\n",
       "      <td>10</td>\n",
       "      <td>New customer</td>\n",
       "      <td>6.367797</td>\n",
       "      <td>Low Spender</td>\n",
       "      <td>20.0</td>\n",
       "      <td>Frequent customer</td>\n",
       "      <td>Linda</td>\n",
       "      <td>Nguyen</td>\n",
       "      <td>Female</td>\n",
       "      <td>Alabama</td>\n",
       "      <td>31</td>\n",
       "      <td>2/17/2019</td>\n",
       "      <td>3</td>\n",
       "      <td>married</td>\n",
       "      <td>40423</td>\n",
       "      <td>both</td>\n",
       "    </tr>\n",
       "  </tbody>\n",
       "</table>\n",
       "</div>"
      ],
      "text/plain": [
       "  order_id user_id  order_number  orders_day_of_week  orders_time  \\\n",
       "0  2539329       1             1                   2            8   \n",
       "1  2398795       1             2                   3            7   \n",
       "2   473747       1             3                   3           12   \n",
       "3  2254736       1             4                   4            7   \n",
       "4   431534       1             5                   4           15   \n",
       "\n",
       "   days_since_prior_order  new_customer product_id  add_to_cart_order  \\\n",
       "0                     NaN          True        196                  1   \n",
       "1                    15.0         False        196                  1   \n",
       "2                    21.0         False        196                  1   \n",
       "3                    29.0         False        196                  1   \n",
       "4                    28.0         False        196                  1   \n",
       "\n",
       "   reordered product_name aisle_id department_id  prices    price_range_loc  \\\n",
       "0          0         Soda       77             7     9.0  Mid-range product   \n",
       "1          1         Soda       77             7     9.0  Mid-range product   \n",
       "2          1         Soda       77             7     9.0  Mid-range product   \n",
       "3          1         Soda       77             7     9.0  Mid-range product   \n",
       "4          1         Soda       77             7     9.0  Mid-range product   \n",
       "\n",
       "      busiest_day busiest_period_of_day  max_order  loyalty_flag  \\\n",
       "0  Regularly busy           Most orders         10  New customer   \n",
       "1      Least busy        Average orders         10  New customer   \n",
       "2      Least busy           Most orders         10  New customer   \n",
       "3      Least busy        Average orders         10  New customer   \n",
       "4      Least busy           Most orders         10  New customer   \n",
       "\n",
       "   spending_mean spending_flag  user_frequency           spend_status  \\\n",
       "0       6.367797   Low Spender             NaN                    NaN   \n",
       "1       6.367797   Low Spender            20.5  Non-frequent customer   \n",
       "2       6.367797   Low Spender            13.0      Frequent customer   \n",
       "3       6.367797   Low Spender            10.0      Frequent customer   \n",
       "4       6.367797   Low Spender            20.0      Frequent customer   \n",
       "\n",
       "  First Name Last Name  Gender    STATE  Age date_joined  n_dependants  \\\n",
       "0      Linda    Nguyen  Female  Alabama   31   2/17/2019             3   \n",
       "1      Linda    Nguyen  Female  Alabama   31   2/17/2019             3   \n",
       "2      Linda    Nguyen  Female  Alabama   31   2/17/2019             3   \n",
       "3      Linda    Nguyen  Female  Alabama   31   2/17/2019             3   \n",
       "4      Linda    Nguyen  Female  Alabama   31   2/17/2019             3   \n",
       "\n",
       "  fam_status  income _merge  \n",
       "0    married   40423   both  \n",
       "1    married   40423   both  \n",
       "2    married   40423   both  \n",
       "3    married   40423   both  \n",
       "4    married   40423   both  "
      ]
     },
     "execution_count": 5,
     "metadata": {},
     "output_type": "execute_result"
    }
   ],
   "source": [
    "# check the head\n",
    "insta_final.head()"
   ]
  },
  {
   "cell_type": "code",
   "execution_count": 6,
   "id": "b5e30bf2",
   "metadata": {},
   "outputs": [],
   "source": [
    "# drop the _merge flag (not needed since the merge was on \"inner\" and all values will be \"both\")\n",
    "insta_final.drop('_merge', axis=1, inplace=True)"
   ]
  },
  {
   "cell_type": "code",
   "execution_count": null,
   "id": "4c11f0da",
   "metadata": {},
   "outputs": [],
   "source": [
    "# check the shape\n",
    "insta_final.shape"
   ]
  },
  {
   "cell_type": "code",
   "execution_count": 8,
   "id": "ca9f8d39",
   "metadata": {},
   "outputs": [
    {
     "data": {
      "text/plain": [
       "Index(['order_id', 'user_id', 'order_number', 'orders_day_of_week',\n",
       "       'orders_time', 'days_since_prior_order', 'new_customer', 'product_id',\n",
       "       'add_to_cart_order', 'reordered', 'product_name', 'aisle_id',\n",
       "       'department_id', 'prices', 'price_range_loc', 'busiest_day',\n",
       "       'busiest_period_of_day', 'max_order', 'loyalty_flag', 'spending_mean',\n",
       "       'spending_flag', 'user_frequency', 'spend_status', 'First Name',\n",
       "       'Last Name', 'Gender', 'STATE', 'Age', 'date_joined', 'n_dependants',\n",
       "       'fam_status', 'income'],\n",
       "      dtype='object')"
      ]
     },
     "execution_count": 8,
     "metadata": {},
     "output_type": "execute_result"
    }
   ],
   "source": [
    "# check the columns\n",
    "insta_final.columns"
   ]
  },
  {
   "cell_type": "code",
   "execution_count": null,
   "id": "62944803",
   "metadata": {},
   "outputs": [],
   "source": []
  },
  {
   "cell_type": "markdown",
   "id": "a15a6224",
   "metadata": {},
   "source": [
    "### Q2: Consider any security implications that might exist for this new data. You’ll need to address any PII data in the data before continuing your analysis."
   ]
  },
  {
   "cell_type": "code",
   "execution_count": null,
   "id": "5b4f302a",
   "metadata": {},
   "outputs": [],
   "source": [
    "# remove columns with first name, last name, email, etc..\n",
    "if 'First Name' in insta_final:\n",
    "    insta_final = insta_final.drop('First Name', axis=1)\n",
    "if 'Last Name' in insta_final:\n",
    "    insta_final = insta_final.drop('Last Name', axis=1)\n"
   ]
  },
  {
   "cell_type": "code",
   "execution_count": 10,
   "id": "a051f2b5",
   "metadata": {},
   "outputs": [
    {
     "data": {
      "text/plain": [
       "Index(['order_id', 'user_id', 'order_number', 'orders_day_of_week',\n",
       "       'orders_time', 'days_since_prior_order', 'new_customer', 'product_id',\n",
       "       'add_to_cart_order', 'reordered', 'product_name', 'aisle_id',\n",
       "       'department_id', 'prices', 'price_range_loc', 'busiest_day',\n",
       "       'busiest_period_of_day', 'max_order', 'loyalty_flag', 'spending_mean',\n",
       "       'spending_flag', 'user_frequency', 'spend_status', 'Gender', 'STATE',\n",
       "       'Age', 'date_joined', 'n_dependants', 'fam_status', 'income'],\n",
       "      dtype='object')"
      ]
     },
     "execution_count": 10,
     "metadata": {},
     "output_type": "execute_result"
    }
   ],
   "source": [
    "# check the new list of columns\n",
    "insta_final.columns"
   ]
  },
  {
   "cell_type": "code",
   "execution_count": null,
   "id": "185bdde6",
   "metadata": {},
   "outputs": [],
   "source": [
    "# check the new shape\n",
    "insta_final.shape"
   ]
  },
  {
   "cell_type": "markdown",
   "id": "3b7202f0",
   "metadata": {},
   "source": [
    "Q2 comment: We don't need the first and last names of the customers and these should be removed anyways, as they are PII data. Therefore, we removed 2 columns."
   ]
  },
  {
   "cell_type": "code",
   "execution_count": null,
   "id": "976c65de",
   "metadata": {},
   "outputs": [],
   "source": []
  },
  {
   "cell_type": "markdown",
   "id": "ccb48ba6",
   "metadata": {},
   "source": [
    "### Q3 Part 1: Create a regional segmentation of the data. You’ll need to create a “Region” column based on the “State” column from your customers data set."
   ]
  },
  {
   "cell_type": "code",
   "execution_count": 12,
   "id": "de1ec046",
   "metadata": {},
   "outputs": [],
   "source": [
    "# assign each state to one of the 4 regions (according to Wikipedia)\n",
    "\n",
    "def assign_region(row):\n",
    "\n",
    "    if row['STATE'] in ['Maine', 'New Hampshire', 'Vermont', 'Massachusetts', 'Rhode Island',\n",
    "                 'Connecticut', 'New York', 'Pennsylvania', 'New Jersey']:\n",
    "        return 'Northeast'\n",
    "    elif row['STATE'] in ['Wisconsin', 'Michigan', 'Illinois', 'Indiana', 'Ohio', \n",
    "                   'North Dakota', 'South Dakota', 'Nebraska', 'Kansas', \n",
    "                   'Minnesota', 'Iowa', 'Missouri']:\n",
    "        return 'Midwest'\n",
    "    elif row['STATE'] in ['Delaware', 'Maryland', 'District of Columbia', 'Virginia', \n",
    "                   'West Virginia', 'North Carolina', 'South Carolina', 'Georgia', \n",
    "                   'Florida', 'Kentucky', 'Tennessee', 'Mississippi', 'Alabama', \n",
    "                   'Oklahoma', 'Texas', 'Arkansas', 'Louisiana']:\n",
    "        return 'South'\n",
    "    elif row['STATE'] in ['Idaho', 'Montana', 'Wyoming', 'Nevada', 'Utah', 'Colorado', \n",
    "                   'Arizona', 'New Mexico', 'Alaska', 'Washington', 'Oregon', \n",
    "                   'California', 'Hawaii']:\n",
    "        return 'West'\n",
    "    else:\n",
    "        return 'Other'"
   ]
  },
  {
   "cell_type": "code",
   "execution_count": 13,
   "id": "84c43823",
   "metadata": {},
   "outputs": [],
   "source": [
    "# create a new column with \"region\" indicated next to \"state\" \n",
    "insta_final['Region'] = insta_final.apply(assign_region, axis = 1)"
   ]
  },
  {
   "cell_type": "code",
   "execution_count": 14,
   "id": "3692f0ea",
   "metadata": {},
   "outputs": [
    {
     "data": {
      "text/plain": [
       "Index(['order_id', 'user_id', 'order_number', 'orders_day_of_week',\n",
       "       'orders_time', 'days_since_prior_order', 'new_customer', 'product_id',\n",
       "       'add_to_cart_order', 'reordered', 'product_name', 'aisle_id',\n",
       "       'department_id', 'prices', 'price_range_loc', 'busiest_day',\n",
       "       'busiest_period_of_day', 'max_order', 'loyalty_flag', 'spending_mean',\n",
       "       'spending_flag', 'user_frequency', 'spend_status', 'Gender', 'STATE',\n",
       "       'Age', 'date_joined', 'n_dependants', 'fam_status', 'income', 'Region'],\n",
       "      dtype='object')"
      ]
     },
     "execution_count": 14,
     "metadata": {},
     "output_type": "execute_result"
    }
   ],
   "source": [
    "# check the new columns\n",
    "insta_final.columns"
   ]
  },
  {
   "cell_type": "code",
   "execution_count": 15,
   "id": "39d436c4",
   "metadata": {},
   "outputs": [
    {
     "data": {
      "text/html": [
       "<div>\n",
       "<style scoped>\n",
       "    .dataframe tbody tr th:only-of-type {\n",
       "        vertical-align: middle;\n",
       "    }\n",
       "\n",
       "    .dataframe tbody tr th {\n",
       "        vertical-align: top;\n",
       "    }\n",
       "\n",
       "    .dataframe thead th {\n",
       "        text-align: right;\n",
       "    }\n",
       "</style>\n",
       "<table border=\"1\" class=\"dataframe\">\n",
       "  <thead>\n",
       "    <tr style=\"text-align: right;\">\n",
       "      <th></th>\n",
       "      <th>order_id</th>\n",
       "      <th>user_id</th>\n",
       "      <th>order_number</th>\n",
       "      <th>orders_day_of_week</th>\n",
       "      <th>orders_time</th>\n",
       "      <th>days_since_prior_order</th>\n",
       "      <th>new_customer</th>\n",
       "      <th>product_id</th>\n",
       "      <th>add_to_cart_order</th>\n",
       "      <th>reordered</th>\n",
       "      <th>product_name</th>\n",
       "      <th>aisle_id</th>\n",
       "      <th>department_id</th>\n",
       "      <th>prices</th>\n",
       "      <th>price_range_loc</th>\n",
       "      <th>busiest_day</th>\n",
       "      <th>busiest_period_of_day</th>\n",
       "      <th>max_order</th>\n",
       "      <th>loyalty_flag</th>\n",
       "      <th>spending_mean</th>\n",
       "      <th>spending_flag</th>\n",
       "      <th>user_frequency</th>\n",
       "      <th>spend_status</th>\n",
       "      <th>Gender</th>\n",
       "      <th>STATE</th>\n",
       "      <th>Age</th>\n",
       "      <th>date_joined</th>\n",
       "      <th>n_dependants</th>\n",
       "      <th>fam_status</th>\n",
       "      <th>income</th>\n",
       "      <th>Region</th>\n",
       "    </tr>\n",
       "  </thead>\n",
       "  <tbody>\n",
       "    <tr>\n",
       "      <th>0</th>\n",
       "      <td>2539329</td>\n",
       "      <td>1</td>\n",
       "      <td>1</td>\n",
       "      <td>2</td>\n",
       "      <td>8</td>\n",
       "      <td>NaN</td>\n",
       "      <td>True</td>\n",
       "      <td>196</td>\n",
       "      <td>1</td>\n",
       "      <td>0</td>\n",
       "      <td>Soda</td>\n",
       "      <td>77</td>\n",
       "      <td>7</td>\n",
       "      <td>9.0</td>\n",
       "      <td>Mid-range product</td>\n",
       "      <td>Regularly busy</td>\n",
       "      <td>Most orders</td>\n",
       "      <td>10</td>\n",
       "      <td>New customer</td>\n",
       "      <td>6.367797</td>\n",
       "      <td>Low Spender</td>\n",
       "      <td>NaN</td>\n",
       "      <td>NaN</td>\n",
       "      <td>Female</td>\n",
       "      <td>Alabama</td>\n",
       "      <td>31</td>\n",
       "      <td>2/17/2019</td>\n",
       "      <td>3</td>\n",
       "      <td>married</td>\n",
       "      <td>40423</td>\n",
       "      <td>South</td>\n",
       "    </tr>\n",
       "    <tr>\n",
       "      <th>1</th>\n",
       "      <td>2398795</td>\n",
       "      <td>1</td>\n",
       "      <td>2</td>\n",
       "      <td>3</td>\n",
       "      <td>7</td>\n",
       "      <td>15.0</td>\n",
       "      <td>False</td>\n",
       "      <td>196</td>\n",
       "      <td>1</td>\n",
       "      <td>1</td>\n",
       "      <td>Soda</td>\n",
       "      <td>77</td>\n",
       "      <td>7</td>\n",
       "      <td>9.0</td>\n",
       "      <td>Mid-range product</td>\n",
       "      <td>Least busy</td>\n",
       "      <td>Average orders</td>\n",
       "      <td>10</td>\n",
       "      <td>New customer</td>\n",
       "      <td>6.367797</td>\n",
       "      <td>Low Spender</td>\n",
       "      <td>20.5</td>\n",
       "      <td>Non-frequent customer</td>\n",
       "      <td>Female</td>\n",
       "      <td>Alabama</td>\n",
       "      <td>31</td>\n",
       "      <td>2/17/2019</td>\n",
       "      <td>3</td>\n",
       "      <td>married</td>\n",
       "      <td>40423</td>\n",
       "      <td>South</td>\n",
       "    </tr>\n",
       "    <tr>\n",
       "      <th>2</th>\n",
       "      <td>473747</td>\n",
       "      <td>1</td>\n",
       "      <td>3</td>\n",
       "      <td>3</td>\n",
       "      <td>12</td>\n",
       "      <td>21.0</td>\n",
       "      <td>False</td>\n",
       "      <td>196</td>\n",
       "      <td>1</td>\n",
       "      <td>1</td>\n",
       "      <td>Soda</td>\n",
       "      <td>77</td>\n",
       "      <td>7</td>\n",
       "      <td>9.0</td>\n",
       "      <td>Mid-range product</td>\n",
       "      <td>Least busy</td>\n",
       "      <td>Most orders</td>\n",
       "      <td>10</td>\n",
       "      <td>New customer</td>\n",
       "      <td>6.367797</td>\n",
       "      <td>Low Spender</td>\n",
       "      <td>13.0</td>\n",
       "      <td>Frequent customer</td>\n",
       "      <td>Female</td>\n",
       "      <td>Alabama</td>\n",
       "      <td>31</td>\n",
       "      <td>2/17/2019</td>\n",
       "      <td>3</td>\n",
       "      <td>married</td>\n",
       "      <td>40423</td>\n",
       "      <td>South</td>\n",
       "    </tr>\n",
       "    <tr>\n",
       "      <th>3</th>\n",
       "      <td>2254736</td>\n",
       "      <td>1</td>\n",
       "      <td>4</td>\n",
       "      <td>4</td>\n",
       "      <td>7</td>\n",
       "      <td>29.0</td>\n",
       "      <td>False</td>\n",
       "      <td>196</td>\n",
       "      <td>1</td>\n",
       "      <td>1</td>\n",
       "      <td>Soda</td>\n",
       "      <td>77</td>\n",
       "      <td>7</td>\n",
       "      <td>9.0</td>\n",
       "      <td>Mid-range product</td>\n",
       "      <td>Least busy</td>\n",
       "      <td>Average orders</td>\n",
       "      <td>10</td>\n",
       "      <td>New customer</td>\n",
       "      <td>6.367797</td>\n",
       "      <td>Low Spender</td>\n",
       "      <td>10.0</td>\n",
       "      <td>Frequent customer</td>\n",
       "      <td>Female</td>\n",
       "      <td>Alabama</td>\n",
       "      <td>31</td>\n",
       "      <td>2/17/2019</td>\n",
       "      <td>3</td>\n",
       "      <td>married</td>\n",
       "      <td>40423</td>\n",
       "      <td>South</td>\n",
       "    </tr>\n",
       "    <tr>\n",
       "      <th>4</th>\n",
       "      <td>431534</td>\n",
       "      <td>1</td>\n",
       "      <td>5</td>\n",
       "      <td>4</td>\n",
       "      <td>15</td>\n",
       "      <td>28.0</td>\n",
       "      <td>False</td>\n",
       "      <td>196</td>\n",
       "      <td>1</td>\n",
       "      <td>1</td>\n",
       "      <td>Soda</td>\n",
       "      <td>77</td>\n",
       "      <td>7</td>\n",
       "      <td>9.0</td>\n",
       "      <td>Mid-range product</td>\n",
       "      <td>Least busy</td>\n",
       "      <td>Most orders</td>\n",
       "      <td>10</td>\n",
       "      <td>New customer</td>\n",
       "      <td>6.367797</td>\n",
       "      <td>Low Spender</td>\n",
       "      <td>20.0</td>\n",
       "      <td>Frequent customer</td>\n",
       "      <td>Female</td>\n",
       "      <td>Alabama</td>\n",
       "      <td>31</td>\n",
       "      <td>2/17/2019</td>\n",
       "      <td>3</td>\n",
       "      <td>married</td>\n",
       "      <td>40423</td>\n",
       "      <td>South</td>\n",
       "    </tr>\n",
       "  </tbody>\n",
       "</table>\n",
       "</div>"
      ],
      "text/plain": [
       "  order_id user_id  order_number  orders_day_of_week  orders_time  \\\n",
       "0  2539329       1             1                   2            8   \n",
       "1  2398795       1             2                   3            7   \n",
       "2   473747       1             3                   3           12   \n",
       "3  2254736       1             4                   4            7   \n",
       "4   431534       1             5                   4           15   \n",
       "\n",
       "   days_since_prior_order  new_customer product_id  add_to_cart_order  \\\n",
       "0                     NaN          True        196                  1   \n",
       "1                    15.0         False        196                  1   \n",
       "2                    21.0         False        196                  1   \n",
       "3                    29.0         False        196                  1   \n",
       "4                    28.0         False        196                  1   \n",
       "\n",
       "   reordered product_name aisle_id department_id  prices    price_range_loc  \\\n",
       "0          0         Soda       77             7     9.0  Mid-range product   \n",
       "1          1         Soda       77             7     9.0  Mid-range product   \n",
       "2          1         Soda       77             7     9.0  Mid-range product   \n",
       "3          1         Soda       77             7     9.0  Mid-range product   \n",
       "4          1         Soda       77             7     9.0  Mid-range product   \n",
       "\n",
       "      busiest_day busiest_period_of_day  max_order  loyalty_flag  \\\n",
       "0  Regularly busy           Most orders         10  New customer   \n",
       "1      Least busy        Average orders         10  New customer   \n",
       "2      Least busy           Most orders         10  New customer   \n",
       "3      Least busy        Average orders         10  New customer   \n",
       "4      Least busy           Most orders         10  New customer   \n",
       "\n",
       "   spending_mean spending_flag  user_frequency           spend_status  Gender  \\\n",
       "0       6.367797   Low Spender             NaN                    NaN  Female   \n",
       "1       6.367797   Low Spender            20.5  Non-frequent customer  Female   \n",
       "2       6.367797   Low Spender            13.0      Frequent customer  Female   \n",
       "3       6.367797   Low Spender            10.0      Frequent customer  Female   \n",
       "4       6.367797   Low Spender            20.0      Frequent customer  Female   \n",
       "\n",
       "     STATE  Age date_joined  n_dependants fam_status  income Region  \n",
       "0  Alabama   31   2/17/2019             3    married   40423  South  \n",
       "1  Alabama   31   2/17/2019             3    married   40423  South  \n",
       "2  Alabama   31   2/17/2019             3    married   40423  South  \n",
       "3  Alabama   31   2/17/2019             3    married   40423  South  \n",
       "4  Alabama   31   2/17/2019             3    married   40423  South  "
      ]
     },
     "execution_count": 15,
     "metadata": {},
     "output_type": "execute_result"
    }
   ],
   "source": [
    "# check the new head\n",
    "insta_final.head()"
   ]
  },
  {
   "cell_type": "code",
   "execution_count": 16,
   "id": "81d09c15",
   "metadata": {},
   "outputs": [
    {
     "data": {
      "text/plain": [
       "Region\n",
       "South        10791885\n",
       "West          8292913\n",
       "Midwest       7597325\n",
       "Northeast     5722736\n",
       "Name: count, dtype: int64"
      ]
     },
     "execution_count": 16,
     "metadata": {},
     "output_type": "execute_result"
    }
   ],
   "source": [
    "insta_final['Region'].value_counts(dropna = False)"
   ]
  },
  {
   "cell_type": "code",
   "execution_count": 17,
   "id": "60394f93",
   "metadata": {},
   "outputs": [
    {
     "data": {
      "text/plain": [
       "(32404859, 31)"
      ]
     },
     "execution_count": 17,
     "metadata": {},
     "output_type": "execute_result"
    }
   ],
   "source": [
    "# check the shape\n",
    "insta_final.shape"
   ]
  },
  {
   "cell_type": "code",
   "execution_count": null,
   "id": "b89ac828",
   "metadata": {},
   "outputs": [],
   "source": []
  },
  {
   "cell_type": "markdown",
   "id": "af0fb6d1",
   "metadata": {},
   "source": [
    "### Q3 Part 2: Determine whether there’s a difference in spending habits between the different U.S. regions. (Hint: You can do this by crossing the variable you just created with the spending flag.)"
   ]
  },
  {
   "cell_type": "code",
   "execution_count": 18,
   "id": "2981f136",
   "metadata": {},
   "outputs": [],
   "source": [
    "# create a crosstab with regions as rows and spending_flag as columns\n",
    "crosstab = pd.crosstab(insta_final['Region'], insta_final['spending_flag'], dropna = False)\n",
    "crosstab['High_to_Low_Ratio'] = crosstab['High Spender'] / crosstab['Low Spender']"
   ]
  },
  {
   "cell_type": "code",
   "execution_count": 19,
   "id": "d29658cd",
   "metadata": {},
   "outputs": [
    {
     "data": {
      "text/html": [
       "<div>\n",
       "<style scoped>\n",
       "    .dataframe tbody tr th:only-of-type {\n",
       "        vertical-align: middle;\n",
       "    }\n",
       "\n",
       "    .dataframe tbody tr th {\n",
       "        vertical-align: top;\n",
       "    }\n",
       "\n",
       "    .dataframe thead th {\n",
       "        text-align: right;\n",
       "    }\n",
       "</style>\n",
       "<table border=\"1\" class=\"dataframe\">\n",
       "  <thead>\n",
       "    <tr style=\"text-align: right;\">\n",
       "      <th>spending_flag</th>\n",
       "      <th>High Spender</th>\n",
       "      <th>Low Spender</th>\n",
       "      <th>High_to_Low_Ratio</th>\n",
       "    </tr>\n",
       "    <tr>\n",
       "      <th>Region</th>\n",
       "      <th></th>\n",
       "      <th></th>\n",
       "      <th></th>\n",
       "    </tr>\n",
       "  </thead>\n",
       "  <tbody>\n",
       "    <tr>\n",
       "      <th>Midwest</th>\n",
       "      <td>155975</td>\n",
       "      <td>7441350</td>\n",
       "      <td>0.020961</td>\n",
       "    </tr>\n",
       "    <tr>\n",
       "      <th>Northeast</th>\n",
       "      <td>108225</td>\n",
       "      <td>5614511</td>\n",
       "      <td>0.019276</td>\n",
       "    </tr>\n",
       "    <tr>\n",
       "      <th>South</th>\n",
       "      <td>209691</td>\n",
       "      <td>10582194</td>\n",
       "      <td>0.019815</td>\n",
       "    </tr>\n",
       "    <tr>\n",
       "      <th>West</th>\n",
       "      <td>160354</td>\n",
       "      <td>8132559</td>\n",
       "      <td>0.019718</td>\n",
       "    </tr>\n",
       "  </tbody>\n",
       "</table>\n",
       "</div>"
      ],
      "text/plain": [
       "spending_flag  High Spender  Low Spender  High_to_Low_Ratio\n",
       "Region                                                     \n",
       "Midwest              155975      7441350           0.020961\n",
       "Northeast            108225      5614511           0.019276\n",
       "South                209691     10582194           0.019815\n",
       "West                 160354      8132559           0.019718"
      ]
     },
     "execution_count": 19,
     "metadata": {},
     "output_type": "execute_result"
    }
   ],
   "source": [
    "# check the association between region and spending\n",
    "crosstab"
   ]
  },
  {
   "cell_type": "markdown",
   "id": "95371bc7",
   "metadata": {},
   "source": [
    "Q3 comment: \n",
    "The ratio of high to low spenders is similar over the 4 regions."
   ]
  },
  {
   "cell_type": "code",
   "execution_count": null,
   "id": "de4a9aa9",
   "metadata": {},
   "outputs": [],
   "source": []
  },
  {
   "cell_type": "markdown",
   "id": "404d0182",
   "metadata": {},
   "source": [
    "### Q4: Create an exclusion flag for low-activity customers (customers with less than 5 orders) and exclude them from the data. Make sure you export this sample."
   ]
  },
  {
   "cell_type": "code",
   "execution_count": 20,
   "id": "76f0d9d5",
   "metadata": {},
   "outputs": [
    {
     "name": "stderr",
     "output_type": "stream",
     "text": [
      "/var/folders/s0/b631rndx6sv1py5f9s6wc7y00000gn/T/ipykernel_2700/3756863051.py:2: FutureWarning: Setting an item of incompatible dtype is deprecated and will raise in a future error of pandas. Value 'low activity customer' has dtype incompatible with float64, please explicitly cast to a compatible dtype first.\n",
      "  insta_final.loc[insta_final['max_order'] < 5, 'exclusion_flag'] = 'low activity customer'\n"
     ]
    }
   ],
   "source": [
    "# flag customers with number of orders less than 5 as 'low activity'\n",
    "insta_final.loc[insta_final['max_order'] < 5, 'exclusion_flag'] = 'low activity customer'"
   ]
  },
  {
   "cell_type": "code",
   "execution_count": 21,
   "id": "112e2df8",
   "metadata": {},
   "outputs": [],
   "source": [
    "# flag customers with number of orders more than 5 as 'high activity'\n",
    "insta_final.loc[insta_final['max_order'] >= 5, 'exclusion_flag'] = 'high activity customer'"
   ]
  },
  {
   "cell_type": "code",
   "execution_count": 22,
   "id": "b006ce45",
   "metadata": {},
   "outputs": [
    {
     "data": {
      "text/plain": [
       "exclusion_flag\n",
       "high activity customer    30964564\n",
       "low activity customer      1440295\n",
       "Name: count, dtype: int64"
      ]
     },
     "execution_count": 22,
     "metadata": {},
     "output_type": "execute_result"
    }
   ],
   "source": [
    "# check the value counts\n",
    "insta_final['exclusion_flag'].value_counts(dropna = False)"
   ]
  },
  {
   "cell_type": "code",
   "execution_count": 23,
   "id": "df4a3202",
   "metadata": {},
   "outputs": [],
   "source": [
    "# create a dataframe of only high activity customers - call it active_customers\n",
    "active_customers = insta_final[insta_final['exclusion_flag'] == 'high activity customer']"
   ]
  },
  {
   "cell_type": "code",
   "execution_count": 24,
   "id": "2f4447e3",
   "metadata": {},
   "outputs": [
    {
     "data": {
      "text/plain": [
       "Region\n",
       "South        10311139\n",
       "West          7927227\n",
       "Midwest       7261513\n",
       "Northeast     5464685\n",
       "Name: count, dtype: int64"
      ]
     },
     "execution_count": 24,
     "metadata": {},
     "output_type": "execute_result"
    }
   ],
   "source": [
    "active_customers['Region'].value_counts(dropna = False)"
   ]
  },
  {
   "cell_type": "code",
   "execution_count": 25,
   "id": "a38289fa",
   "metadata": {},
   "outputs": [],
   "source": [
    "# export the active_customers df\n",
    "active_customers.to_pickle(os.path.join(path, '02 Data','Prepared Data', 'active_customers.pkl'))"
   ]
  },
  {
   "cell_type": "code",
   "execution_count": null,
   "id": "497e28df",
   "metadata": {},
   "outputs": [],
   "source": []
  }
 ],
 "metadata": {
  "kernelspec": {
   "display_name": "Python 3 (ipykernel)",
   "language": "python",
   "name": "python3"
  },
  "language_info": {
   "codemirror_mode": {
    "name": "ipython",
    "version": 3
   },
   "file_extension": ".py",
   "mimetype": "text/x-python",
   "name": "python",
   "nbconvert_exporter": "python",
   "pygments_lexer": "ipython3",
   "version": "3.11.5"
  },
  "toc": {
   "base_numbering": 1,
   "nav_menu": {},
   "number_sections": false,
   "sideBar": true,
   "skip_h1_title": false,
   "title_cell": "Table of Contents",
   "title_sidebar": "Contents",
   "toc_cell": true,
   "toc_position": {
    "height": "calc(100% - 180px)",
    "left": "10px",
    "top": "150px",
    "width": "341.4px"
   },
   "toc_section_display": true,
   "toc_window_display": false
  }
 },
 "nbformat": 4,
 "nbformat_minor": 5
}
